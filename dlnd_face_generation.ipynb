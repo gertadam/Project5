{
 "cells": [
  {
   "cell_type": "markdown",
   "metadata": {},
   "source": [
    "# Face Generation\n",
    "In this project, you'll use generative adversarial networks to generate new images of faces.\n",
    "### Get the Data\n",
    "You'll be using two datasets in this project:\n",
    "- MNIST\n",
    "- CelebA\n",
    "\n",
    "Since the celebA dataset is complex and you're doing GANs in a project for the first time, we want you to test your neural network on MNIST before CelebA.  Running the GANs on MNIST will allow you to see how well your model trains sooner.\n",
    "\n",
    "If you're using [FloydHub](https://www.floydhub.com/), set `data_dir` to \"/input\" and use the [FloydHub data ID](http://docs.floydhub.com/home/using_datasets/) \"R5KrjnANiKVhLWAkpXhNBe\"."
   ]
  },
  {
   "cell_type": "code",
   "execution_count": 2,
   "metadata": {
    "scrolled": true
   },
   "outputs": [
    {
     "name": "stdout",
     "output_type": "stream",
     "text": [
      "Found mnist Data\n",
      "Found celeba Data\n"
     ]
    }
   ],
   "source": [
    "from os import makedirs\n",
    "from os.path import isfile, isdir, join, exists\n",
    "\n",
    "data_dir   = './data'\n",
    "prefix     = '.'\n",
    "pkl_folder = 'pkl-files'\n",
    "pkl_prefix = join(prefix, pkl_folder)\n",
    "\n",
    "pkl_sub    = 'saved_var_checkpoint'                  #sub-folder\n",
    "pkl_subpth = join(pkl_prefix, pkl_sub)       #filename will be added at runtime \n",
    "\n",
    "chk_folder = 'checkpoints'\n",
    "chk_prefix = join(prefix, chk_folder)\n",
    "\n",
    "chk_sub    = 'historic_losses'                       #sub-folder\n",
    "chk_subpth  = join(chk_prefix, chk_sub)       #filename will be added at runtime\n",
    "\n",
    "f_names = [chk_subpth, pkl_subpth, data_dir]\n",
    "\n",
    "for foldername in f_names:\n",
    "    if not exists(foldername):\n",
    "        makedirs(foldername)\n",
    "\n",
    "if not isdir(pkl_subpth):\n",
    "    raise Exception(\"pkl directory doesn't exist!\")\n",
    "if not isdir(chk_subpth):\n",
    "    raise Exception(\"Checkpoints directory doesn't exist!\")\n",
    "\n",
    "# FloydHub - Use with data ID \"R5KrjnANiKVhLWAkpXhNBe\"\n",
    "#data_dir = '/input'\n",
    "\n",
    "       \n",
    "\"\"\"\n",
    "DON'T MODIFY ANYTHING IN THIS CELL\n",
    "\"\"\"\n",
    "import helper\n",
    "\n",
    "helper.download_extract('mnist', data_dir)\n",
    "helper.download_extract('celeba', data_dir)"
   ]
  },
  {
   "cell_type": "markdown",
   "metadata": {},
   "source": [
    "## Explore the Data\n",
    "### MNIST\n",
    "As you're aware, the [MNIST](http://yann.lecun.com/exdb/mnist/) dataset contains images of handwritten digits. You can view the first number of examples by changing `show_n_images`. "
   ]
  },
  {
   "cell_type": "code",
   "execution_count": 3,
   "metadata": {
    "collapsed": true
   },
   "outputs": [],
   "source": [
    "show_n_images = 25\n",
    "\n",
    "\"\"\"\n",
    "DON'T MODIFY ANYTHING IN THIS CELL\n",
    "\"\"\"\n",
    "%matplotlib inline\n",
    "import os\n",
    "from glob import glob\n",
    "from matplotlib import pyplot\n",
    "\n",
    "mnist_images = helper.get_batch(glob(os.path.join(data_dir, 'mnist/*.jpg'))[:show_n_images], 28, 28, 'L')\n",
    "# pyplot.imshow(helper.images_square_grid(mnist_images, 'L'), cmap='gray')"
   ]
  },
  {
   "cell_type": "markdown",
   "metadata": {},
   "source": [
    "### CelebA\n",
    "The [CelebFaces Attributes Dataset (CelebA)](http://mmlab.ie.cuhk.edu.hk/projects/CelebA.html) dataset contains over 200,000 celebrity images with annotations.  Since you're going to be generating faces, you won't need the annotations.  You can view the first number of examples by changing `show_n_images`."
   ]
  },
  {
   "cell_type": "code",
   "execution_count": 4,
   "metadata": {
    "collapsed": true
   },
   "outputs": [],
   "source": [
    "show_n_images = 25\n",
    "\n",
    "\"\"\"\n",
    "DON'T MODIFY ANYTHING IN THIS CELL\n",
    "\"\"\"\n",
    "mnist_images = helper.get_batch(glob(os.path.join(data_dir, 'img_align_celeba/*.jpg'))[:show_n_images], 28, 28, 'RGB')\n",
    "# pyplot.imshow(helper.images_square_grid(mnist_images, 'RGB'))"
   ]
  },
  {
   "cell_type": "markdown",
   "metadata": {},
   "source": [
    "## Preprocess the Data\n",
    "Since the project's main focus is on building the GANs, we'll preprocess the data for you.  The values of the MNIST and CelebA dataset will be in the range of -0.5 to 0.5 of 28x28 dimensional images.  The CelebA images will be cropped to remove parts of the image that don't include a face, then resized down to 28x28.\n",
    "\n",
    "The MNIST images are black and white images with a single [color channel](https://en.wikipedia.org/wiki/Channel_(digital_image%29) while the CelebA images have [3 color channels (RGB color channel)](https://en.wikipedia.org/wiki/Channel_(digital_image%29#RGB_Images).\n",
    "## Build the Neural Network\n",
    "You'll build the components necessary to build a GANs by implementing the following functions below:\n",
    "- `model_inputs`\n",
    "- `discriminator`\n",
    "- `generator`\n",
    "- `model_loss`\n",
    "- `model_opt`\n",
    "- `train`\n",
    "\n",
    "### Check the Version of TensorFlow and Access to GPU\n",
    "This will check to make sure you have the correct version of TensorFlow and access to a GPU"
   ]
  },
  {
   "cell_type": "code",
   "execution_count": 5,
   "metadata": {},
   "outputs": [
    {
     "name": "stdout",
     "output_type": "stream",
     "text": [
      "TensorFlow Version: 1.0.0\n"
     ]
    },
    {
     "name": "stderr",
     "output_type": "stream",
     "text": [
      "/Users/gertadam/anaconda/envs/TensorFlow/lib/python3.6/site-packages/ipykernel_launcher.py:14: UserWarning: No GPU found. Please use a GPU to train your neural network.\n",
      "  \n"
     ]
    }
   ],
   "source": [
    "\"\"\"\n",
    "DON'T MODIFY ANYTHING IN THIS CELL\n",
    "\"\"\"\n",
    "from distutils.version import LooseVersion\n",
    "import warnings\n",
    "import tensorflow as tf\n",
    "\n",
    "# Check TensorFlow Version\n",
    "assert LooseVersion(tf.__version__) >= LooseVersion('1.0'), \\\n",
    "'Please use TensorFlow version 1.0 or newer.  You are using {}'.format(tf.__version__)\n",
    "print('TensorFlow Version: {}'.format(tf.__version__))\n",
    "\n",
    "# Check for a GPU\n",
    "if not tf.test.gpu_device_name():\n",
    "    warnings.warn('No GPU found. Please use a GPU to train your neural network.')\n",
    "else:\n",
    "    print('Default GPU Device: {}'.format(tf.test.gpu_device_name()))"
   ]
  },
  {
   "cell_type": "markdown",
   "metadata": {},
   "source": [
    "### Input\n",
    "Implement the `model_inputs` function to create TF Placeholders for the Neural Network. It should create the following placeholders:\n",
    "- Real input images placeholder with rank 4 using `image_width`, `image_height`, and `image_channels`.\n",
    "- Z input placeholder with rank 2 using `z_dim`.\n",
    "- Learning rate placeholder with rank 0.\n",
    "\n",
    "Return the placeholders in the following the tuple (tensor of real input images, tensor of z data)"
   ]
  },
  {
   "cell_type": "code",
   "execution_count": 6,
   "metadata": {},
   "outputs": [
    {
     "name": "stdout",
     "output_type": "stream",
     "text": [
      "Tests Passed\n"
     ]
    }
   ],
   "source": [
    "import problem_unittests as tests\n",
    "\n",
    "def model_inputs(image_width, image_height, image_channels, z_dim):\n",
    "    \"\"\"\n",
    "    Create the model inputs\n",
    "    :param image_width: The input image width\n",
    "    :param image_height: The input image height\n",
    "    :param image_channels: The number of image channels\n",
    "    :param z_dim: The dimension of Z\n",
    "    :return: Tuple of (tensor of real input images, tensor of z data, learning rate)\n",
    "    \"\"\"\n",
    "    \n",
    "    real_dim      = (image_width, image_height, image_channels)\n",
    "    inputs_real   = tf.placeholder(tf.float32, (None, *real_dim), name='input_real')\n",
    "    inputs_z      = tf.placeholder(tf.float32, (None, z_dim),     name='input_z')\n",
    "    learning_rate = tf.placeholder(tf.float32, None,              name='learning_rate')\n",
    "    \n",
    "    return inputs_real, inputs_z, learning_rate\n",
    "\n",
    "\"\"\"\n",
    "DON'T MODIFY ANYTHING IN THIS CELL THAT IS BELOW THIS LINE\n",
    "\"\"\"\n",
    "tests.test_model_inputs(model_inputs)"
   ]
  },
  {
   "cell_type": "markdown",
   "metadata": {},
   "source": [
    "### Discriminator\n",
    "Implement `discriminator` to create a discriminator neural network that discriminates on `images`.  This function should be able to reuse the variabes in the neural network.  Use [`tf.variable_scope`](https://www.tensorflow.org/api_docs/python/tf/variable_scope) with a scope name of \"discriminator\" to allow the variables to be reused.  The function should return a tuple of (tensor output of the discriminator, tensor logits of the discriminator)."
   ]
  },
  {
   "cell_type": "code",
   "execution_count": 7,
   "metadata": {
    "collapsed": true
   },
   "outputs": [],
   "source": [
    "def leaky_relu(r, alpha=0.2):\n",
    "    return tf.maximum(alpha * r, r)\n",
    "\n",
    "def array_product(array):\n",
    "    result = 1\n",
    "    for n in array:\n",
    "        result *= int(n)\n",
    "    return result"
   ]
  },
  {
   "cell_type": "code",
   "execution_count": 8,
   "metadata": {},
   "outputs": [
    {
     "name": "stdout",
     "output_type": "stream",
     "text": [
      "Tests Passed\n"
     ]
    }
   ],
   "source": [
    "Dkeep_prob      = 0.5            # initialize\n",
    "\n",
    "def discriminator(images, reuse=False, alpha=0.2):\n",
    "    \"\"\"\n",
    "    Create the discriminator network\n",
    "    :param image: Tensor of input image(s)\n",
    "    :param reuse: Boolean if the weights should be reused\n",
    "    :return: Tuple of (tensor output of the discriminator, tensor logits of the discriminator)\n",
    "    \"\"\"\n",
    "    global Dkeep_prob            \n",
    "    \n",
    "    kernel_init = tf.contrib.layers.xavier_initializer()\n",
    "    \n",
    "    # no batch norm on the 1st layer\n",
    "    with tf.variable_scope('discriminator', reuse=reuse):\n",
    "        kernel_size = 4\n",
    "        conv1 = tf.layers.conv2d(images, 128, kernel_size, strides=2, padding='same', kernel_initializer=kernel_init)\n",
    "        drop1 = tf.layers.dropout(conv1, Dkeep_prob)\n",
    "        leak1 = leaky_relu(drop1, alpha=alpha)\n",
    "        #print(\"leak1.sh\",leak1.shape) #leak1.sh (?, 14, 14, 128)\n",
    "        \n",
    "        conv2 = tf.layers.conv2d(leak1, 256, kernel_size, strides=2, padding='same', kernel_initializer=kernel_init)\n",
    "        drop2 = tf.layers.dropout(conv2, Dkeep_prob)\n",
    "        bnor2 = tf.layers.batch_normalization(drop2, training=True)\n",
    "        leak2 = leaky_relu(bnor2, alpha=alpha)\n",
    "        #print(\"leak2.sh\",leak2.shape) # leak2.sh (?, 7, 7, 256)\n",
    "        \n",
    "        conv3 = tf.layers.conv2d(leak2, 512, kernel_size, strides=2, padding='same', kernel_initializer=kernel_init)\n",
    "        drop3 = tf.layers.dropout(conv3, Dkeep_prob)\n",
    "        bnor3 = tf.layers.batch_normalization(drop3, training=True)\n",
    "        leak3 = leaky_relu(bnor3, alpha=alpha)\n",
    "        #print(\"leak3.sh\",leak3.shape) # leak3.sh (?, 4, 4, 512)\n",
    "    \n",
    "        shape4 = tf.reshape(leak3, [-1, array_product(leak3.get_shape()[1:])])\n",
    "        #print(\"shape4.sh\",shape4.shape) # shape4.sh (?, 8192)\n",
    "        \n",
    "        logits = tf.layers.dense(shape4, 1)\n",
    "        output = tf.sigmoid(logits)\n",
    "    return output, logits\n",
    "\n",
    "\n",
    "\"\"\"\n",
    "DON'T MODIFY ANYTHING IN THIS CELL THAT IS BELOW THIS LINE\n",
    "\"\"\"\n",
    "tests.test_discriminator(discriminator, tf)"
   ]
  },
  {
   "cell_type": "markdown",
   "metadata": {},
   "source": [
    "### Generator\n",
    "Implement `generator` to generate an image using `z`. This function should be able to reuse the variabes in the neural network.  Use [`tf.variable_scope`](https://www.tensorflow.org/api_docs/python/tf/variable_scope) with a scope name of \"generator\" to allow the variables to be reused. The function should return the generated 28 x 28 x `out_channel_dim` images."
   ]
  },
  {
   "cell_type": "code",
   "execution_count": 39,
   "metadata": {},
   "outputs": [
    {
     "name": "stdout",
     "output_type": "stream",
     "text": [
      "Tests Passed\n"
     ]
    }
   ],
   "source": [
    "Gkeep_prob      = 0.4            # initialize\n",
    "\n",
    "def generator(z, out_channel_dim, is_train=True):\n",
    "    \"\"\"\n",
    "    Create the generator network\n",
    "    :param z: Input z\n",
    "    :param out_channel_dim: The number of channels in the output image\n",
    "    :param is_train: Boolean if generator is being used for training\n",
    "    :return: The tensor output of the generator\n",
    "    \"\"\"\n",
    "    # I've expanded this gradually, but significantly in order to strengthen G\n",
    "    # to give G \"more room\" for learning (and for dropout - to stabil.)\n",
    "    \n",
    "    # print(\"z\", z.shape)                    # z (?, 100)\n",
    "    # target (28,28, out_channel_dim)\n",
    "\n",
    "    # Gkeep_prob -another tool we use to make the G more steady, less irratic, less dependent on D\n",
    "    global Gkeep_prob\n",
    "    # kernel_size 1, 2, 4, 8\n",
    "    kernel_init = tf.contrib.layers.xavier_initializer()\n",
    "    \n",
    "    with tf.variable_scope('generator', reuse=not is_train): \n",
    "\n",
    "        dense = tf.layers.dense(z, 2*2*4096)\n",
    "        # print(\"dense\", dense.shape)       # dense (?, 16384)\n",
    "        \n",
    "        shape1 = tf.reshape(dense, [-1, 2, 2, 4096])\n",
    "        \n",
    "        if is_train:\n",
    "            drop1  = tf.layers.dropout(shape1, Gkeep_prob)\n",
    "        else:\n",
    "            drop1  = tf.layers.dropout(shape1, 1)\n",
    "            \n",
    "        bnor1  = tf.layers.batch_normalization(drop1, training=is_train)\n",
    "        leak1  = leaky_relu(bnor1)\n",
    "        # print(\"leak1\", leak1.shape)       # leak1 (?, 2, 2, 4096)\n",
    "\n",
    "        # inspired by http://distill.pub/2016/deconv-checkerboard/\n",
    "        bili1  = tf.image.resize_images(leak1, [3, 3])    # default method=ResizeMethod.BILINEAR\n",
    "        # print(\"bili1\", bili1.shape)       # bili1 (?, 3, 3, 4096)\n",
    "        \n",
    "        tran1  = tf.layers.conv2d_transpose(bili1, 2048, 1, strides=1, padding='same', \\\n",
    "                                            kernel_initializer=kernel_init)\n",
    "        # print(\"tran1\",tran1.shape)        # tran1 (?, 3, 3, 2048)\n",
    "        if is_train:\n",
    "            drop2  = tf.layers.dropout(tran1, Gkeep_prob)\n",
    "        else:\n",
    "            drop2  = tf.layers.dropout(tran1, 1)\n",
    "            \n",
    "        bnor2  = tf.layers.batch_normalization(drop2, training=is_train)\n",
    "        leak2  = leaky_relu(bnor2)\n",
    "        # print(\"leak2\", leak2.shape)       # leak2 (?, 3, 3, 2048)\n",
    "        \n",
    "        bili2  = tf.image.resize_images(leak2, [7, 7])    # default method=ResizeMethod.BILINEAR\n",
    "        # print(\"bili2\", bili2.shape)       # bili2 (?, 7, 7, 2048)\n",
    "        \n",
    "        tran2  = tf.layers.conv2d_transpose(bili2, 1024, 2, strides=1, padding='same', \\\n",
    "                                            kernel_initializer=kernel_init)\n",
    "        # print(\"tran2\",tran2.shape)        # tran2 (?, 7, 7, 1024)\n",
    "        \n",
    "        # while still trying to stabilize G - I try less Drops in the lower G: inspired by: \n",
    "        # https://medium.com/towards-data-science/gan-by-example-using-keras-on-tensorflow-backend-1a6d515a60d0\n",
    "        bnor3  = tf.layers.batch_normalization(tran2, training=is_train)\n",
    "        leak3  = leaky_relu(bnor3)\n",
    "        # print(\"leak3\", leak3.shape)       # leak3 (?, 7, 7, 1024)\n",
    "        \n",
    "        bili3  = tf.image.resize_images(leak3, [14, 14])    # default method=ResizeMethod.BILINEAR\n",
    "        # print(\"bili3\", bili3.shape)       # bili3 (?, 14, 14, 1024)\n",
    "                \n",
    "        tran3  = tf.layers.conv2d_transpose(bili3, 512, 4, strides=1, padding='same', \\\n",
    "                                            kernel_initializer=kernel_init)\n",
    "        # print(\"tran3\",tran3.shape)        # tran3 (?, 14, 14, 512)\n",
    "        \n",
    "        bnor4  = tf.layers.batch_normalization(tran3, training=is_train)\n",
    "        leak4  = leaky_relu(bnor4)\n",
    "        \n",
    "        bili4  = tf.image.resize_images(leak4, [28, 28])    # default method=ResizeMethod.BILINEAR\n",
    "        # print(\"bili4\", bili4.shape)     # bili4 (?, 28, 28, 512)\n",
    "                        \n",
    "        logits = tf.layers.conv2d_transpose(bili4, out_channel_dim, 8, strides=1, padding='same')\n",
    "        # print(\"logits\",logits.shape)    # logits (?, 28, 28, 5)\n",
    "        \n",
    "        # print(\"chan\",out_channel_dim)   # chan 5\n",
    "        output = tf.tanh(logits)\n",
    "\n",
    "    return output\n",
    "\n",
    "\n",
    "\"\"\"\n",
    "DON'T MODIFY ANYTHING IN THIS CELL THAT IS BELOW THIS LINE\n",
    "\"\"\"\n",
    "tests.test_generator(generator, tf)"
   ]
  },
  {
   "cell_type": "markdown",
   "metadata": {},
   "source": [
    "### Loss\n",
    "Implement `model_loss` to build the GANs for training and calculate the loss.  The function should return a tuple of (discriminator loss, generator loss).  Use the following functions you implemented:\n",
    "- `discriminator(images, reuse=False)`\n",
    "- `generator(z, out_channel_dim, is_train=True)`"
   ]
  },
  {
   "cell_type": "code",
   "execution_count": 40,
   "metadata": {},
   "outputs": [
    {
     "name": "stdout",
     "output_type": "stream",
     "text": [
      "Tests Passed\n"
     ]
    }
   ],
   "source": [
    "def model_loss(input_real, input_z, out_channel_dim):\n",
    "    \"\"\"\n",
    "    Get the loss for the discriminator and generator\n",
    "    :param input_real: Images from the real dataset\n",
    "    :param input_z: Z input\n",
    "    :param out_channel_dim: The number of channels in the output image\n",
    "    :return: A tuple of (discriminator loss, generator loss)\n",
    "    \"\"\"\n",
    "    # no longer two GPU's \n",
    "    # with tf.device(gpu1):\n",
    "    g_model = generator(input_z, out_channel_dim)\n",
    "    \n",
    "    # with tf.device(gpu0):\n",
    "    d_model_real, d_logits_real = discriminator(input_real)\n",
    "    d_model_fake, d_logits_fake = discriminator(g_model, reuse=True)\n",
    "    d_loss_real = tf.reduce_mean(\n",
    "                tf.nn.sigmoid_cross_entropy_with_logits(logits=d_logits_real, \n",
    "                                            labels=tf.ones_like(d_model_real)))\n",
    "    d_loss_fake = tf.reduce_mean(\n",
    "                tf.nn.sigmoid_cross_entropy_with_logits(logits=d_logits_fake, \n",
    "                                            labels=tf.zeros_like(d_model_fake)))\n",
    "    d_loss = d_loss_real + d_loss_fake\n",
    "    \n",
    "    g_loss = tf.reduce_mean(\n",
    "                tf.nn.sigmoid_cross_entropy_with_logits(logits=d_logits_fake, \n",
    "                                            labels=tf.ones_like(d_model_fake)))\n",
    "    return d_loss, g_loss\n",
    "\n",
    "\"\"\"\n",
    "DON'T MODIFY ANYTHING IN THIS CELL THAT IS BELOW THIS LINE\n",
    "\"\"\"\n",
    "tests.test_model_loss(model_loss)"
   ]
  },
  {
   "cell_type": "markdown",
   "metadata": {},
   "source": [
    "### Optimization\n",
    "Implement `model_opt` to create the optimization operations for the GANs. Use [`tf.trainable_variables`](https://www.tensorflow.org/api_docs/python/tf/trainable_variables) to get all the trainable variables.  Filter the variables with names that are in the discriminator and generator scope names.  The function should return a tuple of (discriminator training operation, generator training operation)."
   ]
  },
  {
   "cell_type": "code",
   "execution_count": 41,
   "metadata": {},
   "outputs": [
    {
     "name": "stdout",
     "output_type": "stream",
     "text": [
      "Tests Passed\n"
     ]
    }
   ],
   "source": [
    "def model_opt(d_loss, g_loss, learning_rate, beta1):\n",
    "    \"\"\"\n",
    "    Get optimization operations\n",
    "    :param d_loss: Discriminator loss Tensor\n",
    "    :param g_loss: Generator loss Tensor\n",
    "    :param learning_rate: Learning Rate Placeholder\n",
    "    :param beta1: The exponential decay rate for the 1st moment in the optimizer\n",
    "    :return: A tuple of (discriminator training operation, generator training operation)\n",
    "    \"\"\"\n",
    "    # Get weights and bias to update\n",
    "    t_vars = tf.trainable_variables()\n",
    "    d_vars = [var for var in t_vars if var.name.startswith('discriminator')]\n",
    "    g_vars = [var for var in t_vars if var.name.startswith('generator')]\n",
    "    \n",
    "    # Optimize\n",
    "    with tf.control_dependencies(tf.get_collection(tf.GraphKeys.UPDATE_OPS)):\n",
    "        # with tf.device(gpu0):\n",
    "        d_train_opt = tf.train.AdamOptimizer(learning_rate, beta1=beta1).minimize(d_loss, var_list=d_vars)\n",
    "        # with tf.device(gpu1):\n",
    "        g_train_opt = tf.train.AdamOptimizer(learning_rate, beta1=beta1).minimize(g_loss, var_list=g_vars)\n",
    "        \n",
    "    return d_train_opt, g_train_opt\n",
    "\n",
    "\"\"\"\n",
    "DON'T MODIFY ANYTHING IN THIS CELL THAT IS BELOW THIS LINE\n",
    "\"\"\"\n",
    "tests.test_model_opt(model_opt, tf)"
   ]
  },
  {
   "cell_type": "markdown",
   "metadata": {},
   "source": [
    "## Neural Network Training\n",
    "### Show Output\n",
    "Use this function to show the current output of the generator during training. It will help you determine how well the GANs is training."
   ]
  },
  {
   "cell_type": "code",
   "execution_count": 42,
   "metadata": {
    "collapsed": true
   },
   "outputs": [],
   "source": [
    "\"\"\"\n",
    "DON'T MODIFY ANYTHING IN THIS CELL\n",
    "\"\"\"\n",
    "import numpy as np\n",
    "\n",
    "def show_generator_output(sess, n_images, input_z, out_channel_dim, image_mode):\n",
    "    \"\"\"\n",
    "    Show example output for the generator\n",
    "    :param sess: TensorFlow session\n",
    "    :param n_images: Number of Images to display\n",
    "    :param input_z: Input Z Tensor\n",
    "    :param out_channel_dim: The number of channels in the output image\n",
    "    :param image_mode: The mode to use for images (\"RGB\" or \"L\")\n",
    "    \"\"\"\n",
    "    cmap = None if image_mode == 'RGB' else 'gray'\n",
    "    z_dim = input_z.get_shape().as_list()[-1]\n",
    "    example_z = np.random.uniform(-1, 1, size=[n_images, z_dim])\n",
    "\n",
    "    samples = sess.run(\n",
    "        generator(input_z, out_channel_dim, False),\n",
    "        feed_dict={input_z: example_z})\n",
    "\n",
    "    images_grid = helper.images_square_grid(samples, image_mode)\n",
    "    pyplot.imshow(images_grid, cmap=cmap)\n",
    "    pyplot.show()\n"
   ]
  },
  {
   "cell_type": "markdown",
   "metadata": {},
   "source": [
    "### Train\n",
    "Implement `train` to build and train the GANs.  Use the following functions you implemented:\n",
    "- `model_inputs(image_width, image_height, image_channels, z_dim)`\n",
    "- `model_loss(input_real, input_z, out_channel_dim)`\n",
    "- `model_opt(d_loss, g_loss, learning_rate, beta1)`\n",
    "\n",
    "Use the `show_generator_output` to show `generator` output while you train. Running `show_generator_output` for every batch will drastically increase training time and increase the size of the notebook.  It's recommended to print the `generator` output every 100 batches."
   ]
  },
  {
   "cell_type": "code",
   "execution_count": 43,
   "metadata": {
    "collapsed": true
   },
   "outputs": [],
   "source": [
    "import pickle as pkl\n",
    "\n",
    "import time\n",
    "import datetime\n",
    "from datetime import timedelta \n",
    "\n",
    "def timestmp():\n",
    "    print (\"tmstmp\")\n",
    "    print (datetime.datetime.now().strftime(\"%Y-%m-%d %H:%M:%S\"))\n",
    "    \n",
    "def split(start_time):\n",
    "    split_time = time.time()\n",
    "    time_dif   = split_time - start_time\n",
    "    time_str = str(timedelta(seconds = int(time_dif)))\n",
    "    return time_dif, time_str\n",
    "    "
   ]
  },
  {
   "cell_type": "code",
   "execution_count": 44,
   "metadata": {
    "collapsed": true
   },
   "outputs": [],
   "source": [
    "import pylab \n",
    "import numpy as np\n",
    "\n",
    "def plot_loss(losses, steps_graph):\n",
    "    fig, ax = pyplot.subplots()\n",
    "    step_list = [x* steps_graph for x in range(len(losses))]\n",
    "    losses = np.array(losses)\n",
    "    pyplot.plot(losses.T[0], label='Discriminator', alpha=0.5)\n",
    "    pyplot.plot(losses.T[1], label='Generator', alpha=0.5)\n",
    "    pyplot.title(\"Training Losses\")\n",
    "    pyplot.legend()\n",
    "    pyplot.show()\n",
    "    "
   ]
  },
  {
   "cell_type": "code",
   "execution_count": 49,
   "metadata": {
    "collapsed": true
   },
   "outputs": [],
   "source": [
    "#from laplotter import LossAccPlotter\n",
    "from collections import deque\n",
    "import numpy as np\n",
    "\n",
    "def train(epochs, batch_size, z_dim, learning_rate, beta1, get_batches, data_shape, data_image_mode):\n",
    "    \"\"\"\n",
    "    Train the GAN\n",
    "    :param epochs: Number of epochs pr. run\n",
    "    :param batch_size: Batch Size\n",
    "    :param z_dim: Z dimension\n",
    "    :param learning_rate: Learning Rate\n",
    "    :param beta1: The exponential decay rate for the 1st moment in the optimizer\n",
    "    :param get_batches: Function to get batches\n",
    "    :param data_shape: Shape of the data\n",
    "    :param data_image_mode: The image mode to use for images (\"RGB\" or \"L\")\n",
    "    \"\"\"\n",
    "    # global\n",
    "    global filename\n",
    "    global Load_chk\n",
    "    global steps_printline\n",
    "    global steps_images\n",
    "    global chkfilepth\n",
    "    global pckfilepth\n",
    "    global num_mv_avg    \n",
    "    \n",
    "    # var\n",
    "    steps           = 0\n",
    "    laststeps       = 0\n",
    "    last_elapsed    = 0\n",
    "    samples, losses = [], []\n",
    "    start_time      = time.time()\n",
    "    mov_av_list     = deque()\n",
    "    #plotter         = LossAccPlotter()\n",
    "    \n",
    "    image_dim = data_shape[1:]\n",
    "    channels  = image_dim[-1]\n",
    "    \n",
    "    image_mode = \"L\" if channels == 1 else \"RGB\"\n",
    "    \n",
    "    input_real, input_z, lr = model_inputs(*image_dim, z_dim)\n",
    "    d_loss, g_loss                     = model_loss(input_real, input_z, channels)\n",
    "    d_opt, g_opt                       = model_opt(d_loss, g_loss, learning_rate, beta1)\n",
    "        \n",
    "    with tf.Session() as sess:\n",
    "        sess.run(tf.global_variables_initializer())\n",
    "        saver           = tf.train.Saver()\n",
    "        \n",
    "        # implemented in train() so I can separate data from the two runs at runtime\n",
    "        # so we can separate MNIST files from CELEBA-files\n",
    "        chk_suffix = '.chk'\n",
    "        chkfilepth = os.path.join(chk_subpth, filename+chk_suffix)\n",
    "        pkl_suffix = '.pkl'\n",
    "        pklfilepth = os.path.join(pkl_subpth, filename+pkl_suffix)\n",
    "\n",
    "        # we need to add .meta - to see that the 3 chkpoint files are present\n",
    "        metapklfilepth = pklfilepth+'.meta'\n",
    "        \n",
    "        if (Load_chk==True):\n",
    "            # don't know why [isfile] wouldn't work ATM - will have to look into that..\n",
    "            # ...anyway the model- & losses- restore works even if the isfile doesn't\n",
    "            saver.restore(sess, chkfilepth)\n",
    "            print('Model restored.')\n",
    "            with open(pklfilepth, 'rb') as rl:\n",
    "                losses = pkl.load(rl)\n",
    "            print ('historic losses loaded')    \n",
    "            \n",
    "            # if isfile(metachkfilepth):\n",
    "            # else:\n",
    "                #raise Exception(\"Cannot find Checkpoint-data file [\",metapklfilepth,\"] doesn't exist!\")\n",
    "            \n",
    "            # if isfile(pklfilepth):\n",
    "            # else:\n",
    "                # raise Exception(\"Losses-data file [\",pklfilepth,\"]doesn't exist!\")\n",
    "                \n",
    "        timestmp    \n",
    "        for epoch_i in range(epochs):\n",
    "            for batch_images in get_batches(batch_size):\n",
    "                steps += 1\n",
    "                \n",
    "                # Sample noise\n",
    "                batch_z = np.random.uniform(-1, 1, size=[batch_size, z_dim])\n",
    "                \n",
    "                # Optimize\n",
    "                _ = sess.run(d_opt, feed_dict={input_real: batch_images, \n",
    "                                               input_z: batch_z, \n",
    "                                               lr: learning_rate})\n",
    " \n",
    "                _ = sess.run(g_opt, feed_dict={input_real: batch_images, \n",
    "                                               input_z: batch_z, \n",
    "                                               lr: learning_rate})\n",
    "                \n",
    "                # 3 xtra optimizations inspired by the chats on SLACK and the orig. GAN paper\n",
    "                # this is an attempt at stabilizing the Generator and countering the Discriminator overpowering\n",
    "                # the Generator \n",
    "                # so the G takes 1 little steps towards optimum - recalc \n",
    "                # - and 1 step towards opt - recalc. (4 times) (so even at a relatively small lr G should learn)\n",
    "                # -- while D take one on the same batch\n",
    "                _ = sess.run(g_opt, feed_dict={input_real: batch_images, \n",
    "                                               input_z: batch_z, \n",
    "                                               lr: learning_rate})\n",
    "                _ = sess.run(g_opt, feed_dict={input_real: batch_images, \n",
    "                                               input_z: batch_z, \n",
    "                                               lr: learning_rate})\n",
    "                _ = sess.run(g_opt, feed_dict={input_real: batch_images, \n",
    "                                               input_z: batch_z, \n",
    "                                               lr: learning_rate})\n",
    "                \n",
    "                if steps % steps_printline == 0:\n",
    "                    train_loss_d = d_loss.eval({input_z: batch_z, input_real: batch_images})\n",
    "                    train_loss_g = g_loss.eval({input_z: batch_z})\n",
    "                    \n",
    "                    elapsed_time, time_str = split(start_time)\n",
    "                    elapsed_steps  = steps-laststeps\n",
    "                    step_time      = elapsed_time-last_elapsed\n",
    "                    st_time_str = str(timedelta(seconds = int(step_time)))\n",
    "                    time_rest      = (elapsed_time/(epoch_i+1))*(epochs-epoch_i)/60\n",
    "                    \n",
    "                    if (len(mov_av_list)>num_mv_avg):\n",
    "                        mov_av_list.popleft()\n",
    "                        mov_av_list.append(time_rest)\n",
    "                    else:\n",
    "                        mov_av_list.append(time_rest)\n",
    "                    mov_av = np.mean(mov_av_list)\n",
    "                    \n",
    "                    print(\"Epoch:{:2}/{:2}\".format(epoch_i+1, epochs),\n",
    "                          \"Time: {:8}s.\".format(time_str),\n",
    "                          \"st_Tm: {:8}s.\".format(st_time_str),\n",
    "                          \"#Steps:{:4},\".format(steps),\n",
    "                          \"DLoss:{:7.4f}\".format(train_loss_d),\n",
    "                          \"GLoss:{:7.4f}\".format(train_loss_g),\n",
    "                          \"guess:{:4.0f}m.\".format(time_rest),\n",
    "                          \"average:{:4.0f}m.\".format(mov_av))\n",
    "                    laststeps = steps\n",
    "                    last_elapsed = elapsed_time \n",
    "                    # Save losses to view after training\n",
    "                    losses.append((train_loss_d, train_loss_g))\n",
    "                \n",
    "                if (steps == 1) or (steps % steps_images == 0): \n",
    "                    show_generator_output(sess, 81, input_z, channels, image_mode)\n",
    "                    print()\n",
    "                    if (Load_chk==True):\n",
    "                        plot_loss(losses, steps_graph)\n",
    "                if (steps % steps_graph == 0):\n",
    "                    print()\n",
    "                    plot_loss(losses, steps_graph)\n",
    "                    #\n",
    "                    saver.save(sess, chkfilepth)\n",
    "                    timestmp\n",
    "                    print(\"checkpoint saved\")\n",
    "                    #\n",
    "                    print(\"losses saved to: \",pklfilepth)    \n",
    "                    with open(pklfilepth, 'wb') as wl:\n",
    "                        pkl.dump(losses, wl)\n",
    "                    \n",
    "        saver.save(sess, chkfilepth)\n",
    "        timestmp\n",
    "        print(\"checkpoint saved\")\n",
    "        \n",
    "        #does not work need to implement LossAccPlotter \n",
    "        plot_loss(losses, steps_graph)\n",
    "        # trying to separate the 3 plots\n",
    "        for d in range(5, 0, -1):\n",
    "            print(d)\n",
    "        show_generator_output(sess, 81, input_z, channels, image_mode)\n",
    "        for d in range(5, 0, -1):\n",
    "            print(d)\n",
    "        show_generator_output(sess, 4, input_z, channels, image_mode)\n",
    "        for d in range(5, 0, -1):\n",
    "            print(d)\n",
    "        show_generator_output(sess, 4, input_z, channels, image_mode)\n",
    "\n",
    "    print(\"pickle should open: \",pklfilepth)    \n",
    "    with open(pklfilepth, 'wb') as wl:\n",
    "        pkl.dump(losses, wl)\n",
    "    print (\"finished training {} epochs\".format(epochs))\n",
    "    "
   ]
  },
  {
   "cell_type": "markdown",
   "metadata": {},
   "source": [
    "### MNIST\n",
    "Test your GANs architecture on MNIST.  After 2 epochs, the GANs should be able to generate images that look like handwritten digits.  Make sure the loss of the generator is lower than the loss of the discriminator or close to 0."
   ]
  },
  {
   "cell_type": "code",
   "execution_count": null,
   "metadata": {
    "scrolled": true
   },
   "outputs": [
    {
     "data": {
      "image/png": "[encoded data removed]",
      "text/plain": [
       "<matplotlib.figure.Figure at 0x12048f710>"
      ]
     },
     "metadata": {},
     "output_type": "display_data"
    },
    {
     "name": "stdout",
     "output_type": "stream",
     "text": [
      "\n",
      "Epoch: 1/ 1 Time: 1:40:15 s. st_Tm: 1:40:15 s. #Steps:  32, DLoss: 0.0000 GLoss:25.8436 guess: 100m. average: 100m.\n",
      "Epoch: 1/ 1 Time: 3:26:12 s. st_Tm: 1:45:57 s. #Steps:  64, DLoss: 0.0003 GLoss:25.0676 guess: 206m. average: 153m.\n",
      "Epoch: 1/ 1 Time: 5:14:53 s. st_Tm: 1:48:41 s. #Steps:  96, DLoss: 0.0000 GLoss:24.8263 guess: 315m. average: 207m.\n",
      "Epoch: 1/ 1 Time: 7:00:58 s. st_Tm: 1:46:04 s. #Steps: 128, DLoss: 0.7271 GLoss: 3.1038 guess: 421m. average: 261m.\n"
     ]
    },
    {
     "data": {
      "image/png": "[encoded data removed]",
      "text/plain": [
       "<matplotlib.figure.Figure at 0x12ed3ae48>"
      ]
     },
     "metadata": {},
     "output_type": "display_data"
    },
    {
     "name": "stdout",
     "output_type": "stream",
     "text": [
      "\n"
     ]
    }
   ],
   "source": [
    "\"\"\"\n",
    "# GLOBAL VAR \n",
    "- rather than changing the params train() uses - I added these params as global \n",
    "- which I know is not strictly right, but it works for me.\n",
    "\"\"\"\n",
    "# std. Hyper param\n",
    "batch_size    = 128\n",
    "z_dim         = 100\n",
    "\n",
    "# I created a spreadsheet to try and understand beta1, beta2, m_0, v_0 - ended up with a 40* higher lr\n",
    "# I can't say anything other than: these hyperparam worked for me - hope they will for you too.\n",
    "learning_rate = 0.002\n",
    "beta1         = 0.5\n",
    "\n",
    "# to seperate the two data-runs, I will have to give the files different names \n",
    "filename      = 'MNIST_run'\n",
    "Load_chk      = False   # True  set this to [True], if you want to load the checkpoint and ass. losses-file\n",
    "\n",
    "# https://medium.com/towards-data-science/gan-by-example-using-keras-on-tensorflow-backend-1a6d515a60d0\n",
    "Gkeep_prob      = 0.4          # more drops, lower keep prob, but with fewer D_O layers (only in the dense)\n",
    "Dkeep_prob      = 0.4          # lower keep -> to stabilize & weaken D -> to strengthen G\n",
    "\n",
    "num_mv_avg      =  12 \n",
    "steps_printline =  32 \n",
    "steps_images    = 128 \n",
    "\n",
    "steps_graph     = 256 \n",
    "\n",
    "# ran 10 previously - now run another 10\n",
    "epochs          = 1\n",
    "\n",
    "\"\"\"\n",
    "DON'T MODIFY ANYTHING IN THIS CELL THAT IS BELOW THIS LINE\n",
    "\"\"\"\n",
    "#epochs = 2\n",
    "\n",
    "mnist_dataset = helper.Dataset('mnist', glob(os.path.join(data_dir, 'mnist/*.jpg')))\n",
    "with tf.Graph().as_default():\n",
    "    train(epochs, batch_size, z_dim, learning_rate, beta1, mnist_dataset.get_batches,\n",
    "          mnist_dataset.shape, mnist_dataset.image_mode)"
   ]
  },
  {
   "cell_type": "markdown",
   "metadata": {},
   "source": [
    "### CelebA\n",
    "Run your GANs on CelebA.  It will take around 20 minutes on the average GPU to run one epoch.  You can run the whole epoch or stop when it starts to generate realistic faces."
   ]
  },
  {
   "cell_type": "code",
   "execution_count": 47,
   "metadata": {
    "scrolled": false
   },
   "outputs": [
    {
     "ename": "KeyboardInterrupt",
     "evalue": "",
     "output_type": "error",
     "traceback": [
      "\u001b[0;31m---------------------------------------------------------------------------\u001b[0m",
      "\u001b[0;31mKeyboardInterrupt\u001b[0m                         Traceback (most recent call last)",
      "\u001b[0;32m<ipython-input-47-14d93e39dbe9>\u001b[0m in \u001b[0;36m<module>\u001b[0;34m()\u001b[0m\n\u001b[1;32m     39\u001b[0m \u001b[0;32mwith\u001b[0m \u001b[0mtf\u001b[0m\u001b[0;34m.\u001b[0m\u001b[0mGraph\u001b[0m\u001b[0;34m(\u001b[0m\u001b[0;34m)\u001b[0m\u001b[0;34m.\u001b[0m\u001b[0mas_default\u001b[0m\u001b[0;34m(\u001b[0m\u001b[0;34m)\u001b[0m\u001b[0;34m:\u001b[0m\u001b[0;34m\u001b[0m\u001b[0m\n\u001b[1;32m     40\u001b[0m     train(epochs, batch_size, z_dim, learning_rate, beta1, celeba_dataset.get_batches,\n\u001b[0;32m---> 41\u001b[0;31m           celeba_dataset.shape, celeba_dataset.image_mode)\n\u001b[0m",
      "\u001b[0;32m<ipython-input-45-eae0f5144fa3>\u001b[0m in \u001b[0;36mtrain\u001b[0;34m(epochs, batch_size, z_dim, learning_rate, beta1, get_batches, data_shape, data_image_mode)\u001b[0m\n\u001b[1;32m     88\u001b[0m                 _ = sess.run(g_opt, feed_dict={input_real: batch_images, \n\u001b[1;32m     89\u001b[0m                                                \u001b[0minput_z\u001b[0m\u001b[0;34m:\u001b[0m \u001b[0mbatch_z\u001b[0m\u001b[0;34m,\u001b[0m\u001b[0;34m\u001b[0m\u001b[0m\n\u001b[0;32m---> 90\u001b[0;31m                                                lr: learning_rate})\n\u001b[0m\u001b[1;32m     91\u001b[0m \u001b[0;34m\u001b[0m\u001b[0m\n\u001b[1;32m     92\u001b[0m                 \u001b[0;31m# two xtra optimizations inspired by the chats on SLACK and the orig. GAN paper\u001b[0m\u001b[0;34m\u001b[0m\u001b[0;34m\u001b[0m\u001b[0m\n",
      "\u001b[0;32m/Users/gertadam/anaconda/envs/TensorFlow/lib/python3.6/site-packages/tensorflow/python/client/session.py\u001b[0m in \u001b[0;36mrun\u001b[0;34m(self, fetches, feed_dict, options, run_metadata)\u001b[0m\n\u001b[1;32m    765\u001b[0m     \u001b[0;32mtry\u001b[0m\u001b[0;34m:\u001b[0m\u001b[0;34m\u001b[0m\u001b[0m\n\u001b[1;32m    766\u001b[0m       result = self._run(None, fetches, feed_dict, options_ptr,\n\u001b[0;32m--> 767\u001b[0;31m                          run_metadata_ptr)\n\u001b[0m\u001b[1;32m    768\u001b[0m       \u001b[0;32mif\u001b[0m \u001b[0mrun_metadata\u001b[0m\u001b[0;34m:\u001b[0m\u001b[0;34m\u001b[0m\u001b[0m\n\u001b[1;32m    769\u001b[0m         \u001b[0mproto_data\u001b[0m \u001b[0;34m=\u001b[0m \u001b[0mtf_session\u001b[0m\u001b[0;34m.\u001b[0m\u001b[0mTF_GetBuffer\u001b[0m\u001b[0;34m(\u001b[0m\u001b[0mrun_metadata_ptr\u001b[0m\u001b[0;34m)\u001b[0m\u001b[0;34m\u001b[0m\u001b[0m\n",
      "\u001b[0;32m/Users/gertadam/anaconda/envs/TensorFlow/lib/python3.6/site-packages/tensorflow/python/client/session.py\u001b[0m in \u001b[0;36m_run\u001b[0;34m(self, handle, fetches, feed_dict, options, run_metadata)\u001b[0m\n\u001b[1;32m    963\u001b[0m     \u001b[0;32mif\u001b[0m \u001b[0mfinal_fetches\u001b[0m \u001b[0;32mor\u001b[0m \u001b[0mfinal_targets\u001b[0m\u001b[0;34m:\u001b[0m\u001b[0;34m\u001b[0m\u001b[0m\n\u001b[1;32m    964\u001b[0m       results = self._do_run(handle, final_targets, final_fetches,\n\u001b[0;32m--> 965\u001b[0;31m                              feed_dict_string, options, run_metadata)\n\u001b[0m\u001b[1;32m    966\u001b[0m     \u001b[0;32melse\u001b[0m\u001b[0;34m:\u001b[0m\u001b[0;34m\u001b[0m\u001b[0m\n\u001b[1;32m    967\u001b[0m       \u001b[0mresults\u001b[0m \u001b[0;34m=\u001b[0m \u001b[0;34m[\u001b[0m\u001b[0;34m]\u001b[0m\u001b[0;34m\u001b[0m\u001b[0m\n",
      "\u001b[0;32m/Users/gertadam/anaconda/envs/TensorFlow/lib/python3.6/site-packages/tensorflow/python/client/session.py\u001b[0m in \u001b[0;36m_do_run\u001b[0;34m(self, handle, target_list, fetch_list, feed_dict, options, run_metadata)\u001b[0m\n\u001b[1;32m   1013\u001b[0m     \u001b[0;32mif\u001b[0m \u001b[0mhandle\u001b[0m \u001b[0;32mis\u001b[0m \u001b[0;32mNone\u001b[0m\u001b[0;34m:\u001b[0m\u001b[0;34m\u001b[0m\u001b[0m\n\u001b[1;32m   1014\u001b[0m       return self._do_call(_run_fn, self._session, feed_dict, fetch_list,\n\u001b[0;32m-> 1015\u001b[0;31m                            target_list, options, run_metadata)\n\u001b[0m\u001b[1;32m   1016\u001b[0m     \u001b[0;32melse\u001b[0m\u001b[0;34m:\u001b[0m\u001b[0;34m\u001b[0m\u001b[0m\n\u001b[1;32m   1017\u001b[0m       return self._do_call(_prun_fn, self._session, handle, feed_dict,\n",
      "\u001b[0;32m/Users/gertadam/anaconda/envs/TensorFlow/lib/python3.6/site-packages/tensorflow/python/client/session.py\u001b[0m in \u001b[0;36m_do_call\u001b[0;34m(self, fn, *args)\u001b[0m\n\u001b[1;32m   1020\u001b[0m   \u001b[0;32mdef\u001b[0m \u001b[0m_do_call\u001b[0m\u001b[0;34m(\u001b[0m\u001b[0mself\u001b[0m\u001b[0;34m,\u001b[0m \u001b[0mfn\u001b[0m\u001b[0;34m,\u001b[0m \u001b[0;34m*\u001b[0m\u001b[0margs\u001b[0m\u001b[0;34m)\u001b[0m\u001b[0;34m:\u001b[0m\u001b[0;34m\u001b[0m\u001b[0m\n\u001b[1;32m   1021\u001b[0m     \u001b[0;32mtry\u001b[0m\u001b[0;34m:\u001b[0m\u001b[0;34m\u001b[0m\u001b[0m\n\u001b[0;32m-> 1022\u001b[0;31m       \u001b[0;32mreturn\u001b[0m \u001b[0mfn\u001b[0m\u001b[0;34m(\u001b[0m\u001b[0;34m*\u001b[0m\u001b[0margs\u001b[0m\u001b[0;34m)\u001b[0m\u001b[0;34m\u001b[0m\u001b[0m\n\u001b[0m\u001b[1;32m   1023\u001b[0m     \u001b[0;32mexcept\u001b[0m \u001b[0merrors\u001b[0m\u001b[0;34m.\u001b[0m\u001b[0mOpError\u001b[0m \u001b[0;32mas\u001b[0m \u001b[0me\u001b[0m\u001b[0;34m:\u001b[0m\u001b[0;34m\u001b[0m\u001b[0m\n\u001b[1;32m   1024\u001b[0m       \u001b[0mmessage\u001b[0m \u001b[0;34m=\u001b[0m \u001b[0mcompat\u001b[0m\u001b[0;34m.\u001b[0m\u001b[0mas_text\u001b[0m\u001b[0;34m(\u001b[0m\u001b[0me\u001b[0m\u001b[0;34m.\u001b[0m\u001b[0mmessage\u001b[0m\u001b[0;34m)\u001b[0m\u001b[0;34m\u001b[0m\u001b[0m\n",
      "\u001b[0;32m/Users/gertadam/anaconda/envs/TensorFlow/lib/python3.6/site-packages/tensorflow/python/client/session.py\u001b[0m in \u001b[0;36m_run_fn\u001b[0;34m(session, feed_dict, fetch_list, target_list, options, run_metadata)\u001b[0m\n\u001b[1;32m   1002\u001b[0m         return tf_session.TF_Run(session, options,\n\u001b[1;32m   1003\u001b[0m                                  \u001b[0mfeed_dict\u001b[0m\u001b[0;34m,\u001b[0m \u001b[0mfetch_list\u001b[0m\u001b[0;34m,\u001b[0m \u001b[0mtarget_list\u001b[0m\u001b[0;34m,\u001b[0m\u001b[0;34m\u001b[0m\u001b[0m\n\u001b[0;32m-> 1004\u001b[0;31m                                  status, run_metadata)\n\u001b[0m\u001b[1;32m   1005\u001b[0m \u001b[0;34m\u001b[0m\u001b[0m\n\u001b[1;32m   1006\u001b[0m     \u001b[0;32mdef\u001b[0m \u001b[0m_prun_fn\u001b[0m\u001b[0;34m(\u001b[0m\u001b[0msession\u001b[0m\u001b[0;34m,\u001b[0m \u001b[0mhandle\u001b[0m\u001b[0;34m,\u001b[0m \u001b[0mfeed_dict\u001b[0m\u001b[0;34m,\u001b[0m \u001b[0mfetch_list\u001b[0m\u001b[0;34m)\u001b[0m\u001b[0;34m:\u001b[0m\u001b[0;34m\u001b[0m\u001b[0m\n",
      "\u001b[0;31mKeyboardInterrupt\u001b[0m: "
     ]
    }
   ],
   "source": [
    "\"\"\"\n",
    "# GLOBAL VAR \n",
    "- rather than changing the params train() uses - I added these params as global \n",
    "- which I know is not strictly right, but it works for me.\n",
    "\"\"\"\n",
    "\n",
    "# std. Hyper param\n",
    "batch_size     = 256\n",
    "z_dim          = 100\n",
    "\n",
    "# I created a spreadsheet to try and understand beta1, beta2, m_0, v_0 - ended up with a 40* higher lr\n",
    "# I can't say anything other than: these worked for me - hope they will for you too.\n",
    "learning_rate  = 0.002\n",
    "beta1          = 0.5\n",
    "\n",
    "# to seperate the two data-runs, I will have to give the files different names \n",
    "filename       = 'CelebA_run'\n",
    "Load_chk       = False  # True  # set this to [True], if you want to load the checkpoint and ass. losses-file\n",
    "\n",
    "# https://medium.com/towards-data-science/gan-by-example-using-keras-on-tensorflow-backend-1a6d515a60d0\n",
    "Gkeep_prob      = 0.4  # more drops -> lower keep prob but with fewer D_O layers (only in the dense)\n",
    "Dkeep_prob      = 0.4\n",
    "\n",
    "num_mv_avg      =  24                            \n",
    "steps_printline =  32\n",
    "steps_images    = 256 \n",
    "\n",
    "steps_graph     = 512\n",
    "\n",
    "# ran 10 previously - now run another 10\n",
    "epochs          =   1\n",
    "\n",
    "\"\"\"\n",
    "DON'T MODIFY ANYTHING IN THIS CELL THAT IS BELOW THIS LINE\n",
    "\"\"\"\n",
    "#epochs = 1\n",
    "\n",
    "celeba_dataset = helper.Dataset('celeba', glob(os.path.join(data_dir, 'img_align_celeba/*.jpg')))\n",
    "with tf.Graph().as_default():\n",
    "    train(epochs, batch_size, z_dim, learning_rate, beta1, celeba_dataset.get_batches,\n",
    "          celeba_dataset.shape, celeba_dataset.image_mode)"
   ]
  },
  {
   "cell_type": "markdown",
   "metadata": {},
   "source": [
    "### Submitting This Project\n",
    "When submitting this project, make sure to run all the cells before saving the notebook. Save the notebook file as \"dlnd_face_generation.ipynb\" and save it as a HTML file under \"File\" -> \"Download as\". Include the \"helper.py\" and \"problem_unittests.py\" files in your submission."
   ]
  }
 ],
 "metadata": {
  "kernelspec": {
   "display_name": "Python 3",
   "language": "python",
   "name": "python3"
  },
  "language_info": {
   "codemirror_mode": {
    "name": "ipython",
    "version": 3
   },
   "file_extension": ".py",
   "mimetype": "text/x-python",
   "name": "python",
   "nbconvert_exporter": "python",
   "pygments_lexer": "ipython3",
   "version": "3.6.1"
  }
 },
 "nbformat": 4,
 "nbformat_minor": 1
}
