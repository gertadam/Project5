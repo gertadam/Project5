{
 "cells": [
  {
   "cell_type": "markdown",
   "metadata": {},
   "source": [
    "# Face Generation\n",
    "In this project, you'll use generative adversarial networks to generate new images of faces.\n",
    "### Get the Data\n",
    "You'll be using two datasets in this project:\n",
    "- MNIST\n",
    "- CelebA\n",
    "\n",
    "Since the celebA dataset is complex and you're doing GANs in a project for the first time, we want you to test your neural network on MNIST before CelebA.  Running the GANs on MNIST will allow you to see how well your model trains sooner.\n",
    "\n",
    "If you're using [FloydHub](https://www.floydhub.com/), set `data_dir` to \"/input\" and use the [FloydHub data ID](http://docs.floydhub.com/home/using_datasets/) \"R5KrjnANiKVhLWAkpXhNBe\"."
   ]
  },
  {
   "cell_type": "code",
   "execution_count": 1,
   "metadata": {},
   "outputs": [
    {
     "name": "stdout",
     "output_type": "stream",
     "text": [
      "Found mnist Data\n",
      "Found celeba Data\n"
     ]
    }
   ],
   "source": [
    "from os import makedirs\n",
    "from os.path import isfile, isdir, join, exists\n",
    "\n",
    "\n",
    "data_dir   = './data'\n",
    "prefix     = '.'\n",
    "pkl_folder = 'pkl-files'\n",
    "pkl_prefix = join(prefix, pkl_folder)\n",
    "#print(\"pkl_prefix\", pkl_prefix)\n",
    "\n",
    "pkl_sub    = 'saved_var_checkpoint'                  #sub-folder\n",
    "pkl_subpth = join(pkl_prefix, pkl_sub)       #filename will be added at runtime \n",
    "#print(\"pkl_subpth\", pkl_subpth)\n",
    "\n",
    "chk_folder = 'checkpoints'\n",
    "chk_prefix = join(prefix, chk_folder)\n",
    "#print(\"chk_prefix\", chk_prefix)\n",
    "\n",
    "chk_sub    = 'historic_losses'                       #sub-folder\n",
    "chk_subpth  = join(chk_prefix, chk_sub)       #filename will be added at runtime\n",
    "#print(\"chk_subpth\", chk_subpth)\n",
    "\n",
    "f_names = [chk_subpth, pkl_subpth, data_dir]\n",
    "\n",
    "for foldername in f_names:\n",
    "    if not exists(foldername):\n",
    "        makedirs(foldername)\n",
    "\n",
    "if not isdir(pkl_subpth):\n",
    "    raise Exception(\"pkl directory doesn't exist!\")\n",
    "if not isdir(chk_subpth):\n",
    "    raise Exception(\"Checkpoints directory doesn't exist!\")\n",
    "\n",
    "\"\"\"     \n",
    "        # implemented in train() so I can separate data from the two runs at runtime\n",
    "        pkl_suffix = '.pkl'\n",
    "        pklfilepth = os.path.join(pkl_subpth, filename+pkl_suffix)\n",
    "\n",
    "        chk_suffix = '.chk'\n",
    "        chkfilepth = os.path.join(chk_subpth, filename+chk_suffix)\n",
    "\"\"\"\n",
    "\n",
    "    \n",
    "        \n",
    "# FloydHub - Use with data ID \"R5KrjnANiKVhLWAkpXhNBe\"\n",
    "data_dir = '/input'\n",
    "\n",
    "\n",
    "\"\"\"\n",
    "DON'T MODIFY ANYTHING IN THIS CELL\n",
    "\"\"\"\n",
    "import helper\n",
    "\n",
    "helper.download_extract('mnist', data_dir)\n",
    "helper.download_extract('celeba', data_dir)"
   ]
  },
  {
   "cell_type": "markdown",
   "metadata": {},
   "source": [
    "## Explore the Data\n",
    "### MNIST\n",
    "As you're aware, the [MNIST](http://yann.lecun.com/exdb/mnist/) dataset contains images of handwritten digits. You can view the first number of examples by changing `show_n_images`. "
   ]
  },
  {
   "cell_type": "code",
   "execution_count": 2,
   "metadata": {
    "collapsed": true
   },
   "outputs": [],
   "source": [
    "show_n_images = 25\n",
    "\n",
    "\"\"\"\n",
    "DON'T MODIFY ANYTHING IN THIS CELL\n",
    "\"\"\"\n",
    "%matplotlib inline\n",
    "import os\n",
    "from glob import glob\n",
    "from matplotlib import pyplot\n",
    "\n",
    "mnist_images = helper.get_batch(glob(os.path.join(data_dir, 'mnist/*.jpg'))[:show_n_images], 28, 28, 'L')\n",
    "# pyplot.imshow(helper.images_square_grid(mnist_images, 'L'), cmap='gray')"
   ]
  },
  {
   "cell_type": "markdown",
   "metadata": {},
   "source": [
    "### CelebA\n",
    "The [CelebFaces Attributes Dataset (CelebA)](http://mmlab.ie.cuhk.edu.hk/projects/CelebA.html) dataset contains over 200,000 celebrity images with annotations.  Since you're going to be generating faces, you won't need the annotations.  You can view the first number of examples by changing `show_n_images`."
   ]
  },
  {
   "cell_type": "code",
   "execution_count": 3,
   "metadata": {
    "collapsed": true
   },
   "outputs": [],
   "source": [
    "show_n_images = 25\n",
    "\n",
    "\"\"\"\n",
    "DON'T MODIFY ANYTHING IN THIS CELL\n",
    "\"\"\"\n",
    "mnist_images = helper.get_batch(glob(os.path.join(data_dir, 'img_align_celeba/*.jpg'))[:show_n_images], 28, 28, 'RGB')\n",
    "# pyplot.imshow(helper.images_square_grid(mnist_images, 'RGB'))"
   ]
  },
  {
   "cell_type": "markdown",
   "metadata": {},
   "source": [
    "## Preprocess the Data\n",
    "Since the project's main focus is on building the GANs, we'll preprocess the data for you.  The values of the MNIST and CelebA dataset will be in the range of -0.5 to 0.5 of 28x28 dimensional images.  The CelebA images will be cropped to remove parts of the image that don't include a face, then resized down to 28x28.\n",
    "\n",
    "The MNIST images are black and white images with a single [color channel](https://en.wikipedia.org/wiki/Channel_(digital_image%29) while the CelebA images have [3 color channels (RGB color channel)](https://en.wikipedia.org/wiki/Channel_(digital_image%29#RGB_Images).\n",
    "## Build the Neural Network\n",
    "You'll build the components necessary to build a GANs by implementing the following functions below:\n",
    "- `model_inputs`\n",
    "- `discriminator`\n",
    "- `generator`\n",
    "- `model_loss`\n",
    "- `model_opt`\n",
    "- `train`\n",
    "\n",
    "### Check the Version of TensorFlow and Access to GPU\n",
    "This will check to make sure you have the correct version of TensorFlow and access to a GPU"
   ]
  },
  {
   "cell_type": "code",
   "execution_count": 4,
   "metadata": {},
   "outputs": [
    {
     "name": "stdout",
     "output_type": "stream",
     "text": [
      "TensorFlow Version: 1.1.0\n",
      "Default GPU Device: /gpu:0\n"
     ]
    }
   ],
   "source": [
    "\"\"\"\n",
    "DON'T MODIFY ANYTHING IN THIS CELL\n",
    "\"\"\"\n",
    "from distutils.version import LooseVersion\n",
    "import warnings\n",
    "import tensorflow as tf\n",
    "\n",
    "# Check TensorFlow Version\n",
    "assert LooseVersion(tf.__version__) >= LooseVersion('1.0'), \\\n",
    "'Please use TensorFlow version 1.0 or newer.  You are using {}'.format(tf.__version__)\n",
    "print('TensorFlow Version: {}'.format(tf.__version__))\n",
    "\n",
    "# Check for a GPU\n",
    "if not tf.test.gpu_device_name():\n",
    "    warnings.warn('No GPU found. Please use a GPU to train your neural network.')\n",
    "else:\n",
    "    print('Default GPU Device: {}'.format(tf.test.gpu_device_name()))"
   ]
  },
  {
   "cell_type": "markdown",
   "metadata": {},
   "source": [
    "### Important !!\n",
    "\n",
    "Dear reviewer, \n",
    "if you do not have a 2nd GPU in your machine, then please run the hack in the box below \n",
    "- this should should render the device-calls, I made.. \"mostly harmless\".\n",
    "\n",
    "If this for some reason does not work on your machine, \n",
    "you could replace the calls to gpu1, with calls to gpu0.\n",
    "\n",
    "So what I suggest is replace: \n",
    "    [with tf.device(gpu1):] \n",
    "and write instead:     \n",
    "    [with tf.device(gpu0):] \n",
    "    \n",
    "    or if you want to be hardcore ...\n",
    "    replace with [tf.device('/gpu:0'):] .. or even .. [tf.device('/cpu:0'):]\n",
    "    \n",
    "    you could also remove all the device calls \n",
    "    (...which I probably should do, ...before handing in)\n",
    "\n",
    "I know.. \"not an elegant hack\", but the best I could come up with I'm afraid."
   ]
  },
  {
   "cell_type": "code",
   "execution_count": 5,
   "metadata": {},
   "outputs": [
    {
     "name": "stdout",
     "output_type": "stream",
     "text": [
      "/gpu:0\n"
     ]
    }
   ],
   "source": [
    "# https://stackoverflow.com/questions/38559755/how-to-get-current-available-gpus-in-tensorflow\n",
    "from tensorflow.python.client import device_lib\n",
    "\n",
    "def get_available_gpus():\n",
    "    local_device_protos = device_lib.list_local_devices()\n",
    "    return [x.name for x in local_device_protos if x.device_type == 'GPU']\n",
    "\n",
    "#main\n",
    "gpu_list = get_available_gpus()\n",
    "for d in (gpu_list):\n",
    "    print (d)\n",
    "    \n",
    "    \"\"\"  \n",
    "    # temp. hack\n",
    "    # gives IndexError if theres no 2nd device,\n",
    "    # so this was all for naught\n",
    "    if gpu_list[1]=='/gpu:1':\n",
    "        print('/gpu:1 was found')\n",
    "        gpu0 = gpu_list[0]\n",
    "        gpu1 = gpu_list[1]\n",
    "        print(\"The value of [gpu1] is:'\",gpu1,\"'\")\n",
    "    else:\n",
    "        warnings.warn('GPU1 not found. All my device-calls should have been disabled - we let TF control the use of GPU')\n",
    "        gpu0 = gpu_list[0]\n",
    "        gpu1 = gpu_list[0]                    \n",
    "        print(\"The value of [gpu1] is:'\",gpu1,\"'\")\n",
    "    \"\"\"    "
   ]
  },
  {
   "cell_type": "markdown",
   "metadata": {},
   "source": [
    "### Input\n",
    "Implement the `model_inputs` function to create TF Placeholders for the Neural Network. It should create the following placeholders:\n",
    "- Real input images placeholder with rank 4 using `image_width`, `image_height`, and `image_channels`.\n",
    "- Z input placeholder with rank 2 using `z_dim`.\n",
    "- Learning rate placeholder with rank 0.\n",
    "\n",
    "Return the placeholders in the following the tuple (tensor of real input images, tensor of z data)"
   ]
  },
  {
   "cell_type": "code",
   "execution_count": 6,
   "metadata": {},
   "outputs": [
    {
     "name": "stdout",
     "output_type": "stream",
     "text": [
      "Tests Passed\n"
     ]
    }
   ],
   "source": [
    "import problem_unittests as tests\n",
    "\n",
    "def model_inputs(image_width, image_height, image_channels, z_dim):\n",
    "    \"\"\"\n",
    "    Create the model inputs\n",
    "    :param image_width: The input image width\n",
    "    :param image_height: The input image height\n",
    "    :param image_channels: The number of image channels\n",
    "    :param z_dim: The dimension of Z\n",
    "    :return: Tuple of (tensor of real input images, tensor of z data, learning rate)\n",
    "    \"\"\"\n",
    "    real_dim      = (image_width, image_height, image_channels)\n",
    "    inputs_real   = tf.placeholder(tf.float32, (None, *real_dim), name='input_real')\n",
    "    inputs_z      = tf.placeholder(tf.float32, (None, z_dim),     name='input_z')\n",
    "    learning_rate = tf.placeholder(tf.float32, None,              name='learning_rate')\n",
    "    \n",
    "    return inputs_real, inputs_z, learning_rate\n",
    "\"\"\"\n",
    "DON'T MODIFY ANYTHING IN THIS CELL THAT IS BELOW THIS LINE\n",
    "\"\"\"\n",
    "tests.test_model_inputs(model_inputs)"
   ]
  },
  {
   "cell_type": "markdown",
   "metadata": {},
   "source": [
    "### Discriminator\n",
    "Implement `discriminator` to create a discriminator neural network that discriminates on `images`.  This function should be able to reuse the variabes in the neural network.  Use [`tf.variable_scope`](https://www.tensorflow.org/api_docs/python/tf/variable_scope) with a scope name of \"discriminator\" to allow the variables to be reused.  The function should return a tuple of (tensor output of the discriminator, tensor logits of the discriminator)."
   ]
  },
  {
   "cell_type": "code",
   "execution_count": 7,
   "metadata": {
    "collapsed": true
   },
   "outputs": [],
   "source": [
    "def leaky_relu(r, alpha=0.2):\n",
    "    return tf.maximum(alpha * r, r)\n",
    "\n",
    "def array_product(array):\n",
    "    result = 1\n",
    "    for n in array:\n",
    "        result *= int(n)\n",
    "    return result"
   ]
  },
  {
   "cell_type": "code",
   "execution_count": 8,
   "metadata": {},
   "outputs": [
    {
     "name": "stdout",
     "output_type": "stream",
     "text": [
      "Tests Passed\n"
     ]
    }
   ],
   "source": [
    "Dkeep_prob      = 0.6            # initialize\n",
    "\n",
    "def discriminator(images, reuse=False, alpha=0.2):\n",
    "    \"\"\"\n",
    "    Create the discriminator network\n",
    "    :param image: Tensor of input image(s)\n",
    "    :param reuse: Boolean if the weights should be reused\n",
    "    :return: Tuple of (tensor output of the discriminator, tensor logits of the discriminator)\n",
    "    \"\"\"\n",
    "    global Dkeep_prob            # another tool we can use to make the D less overpowering\n",
    "    \n",
    "    #saw this on forum -not sure I inderstand it fully - but it works fantastic\n",
    "    kernel_init = tf.contrib.layers.xavier_initializer()\n",
    "    \n",
    "    # no batch norm on the 1st layer\n",
    "    with tf.variable_scope('discriminator', reuse=reuse):\n",
    "        kernel_size = 4\n",
    "        conv1 = tf.layers.conv2d(images, 128, kernel_size, strides=2, padding='same', kernel_initializer=kernel_init)\n",
    "        drop1 = tf.layers.dropout(conv1, Dkeep_prob)\n",
    "        leak1 = leaky_relu(drop1, alpha=alpha)\n",
    "        #print(\"leak1.sh\",leak1.shape) #leak1.sh (?, 14, 14, 128)\n",
    "        \n",
    "        conv2 = tf.layers.conv2d(leak1, 256, kernel_size, strides=2, padding='same', kernel_initializer=kernel_init)\n",
    "        drop2 = tf.layers.dropout(conv2, Dkeep_prob)\n",
    "        bnor2 = tf.layers.batch_normalization(drop2, training=True)\n",
    "        leak2 = leaky_relu(bnor2, alpha=alpha)\n",
    "        #print(\"leak2.sh\",leak2.shape) # leak2.sh (?, 7, 7, 256)\n",
    "        \n",
    "        conv3 = tf.layers.conv2d(leak2, 512, kernel_size, strides=2, padding='same', kernel_initializer=kernel_init)\n",
    "        drop3 = tf.layers.dropout(conv3, Dkeep_prob)\n",
    "        bnor3 = tf.layers.batch_normalization(drop3, training=True)\n",
    "        leak3 = leaky_relu(bnor3, alpha=alpha)\n",
    "        #print(\"leak3.sh\",leak3.shape) # leak3.sh (?, 4, 4, 512)\n",
    "    \n",
    "        shape4 = tf.reshape(leak3, [-1, array_product(leak3.get_shape()[1:])])\n",
    "        #print(\"shape4.sh\",shape4.shape) # shape4.sh (?, 8192)\n",
    "        logits = tf.layers.dense(shape4, 1)\n",
    "        output = tf.sigmoid(logits)\n",
    "    return output, logits\n",
    "\n",
    "\n",
    "\"\"\"\n",
    "DON'T MODIFY ANYTHING IN THIS CELL THAT IS BELOW THIS LINE\n",
    "\"\"\"\n",
    "tests.test_discriminator(discriminator, tf)"
   ]
  },
  {
   "cell_type": "markdown",
   "metadata": {},
   "source": [
    "### Generator\n",
    "Implement `generator` to generate an image using `z`. This function should be able to reuse the variabes in the neural network.  Use [`tf.variable_scope`](https://www.tensorflow.org/api_docs/python/tf/variable_scope) with a scope name of \"generator\" to allow the variables to be reused. The function should return the generated 28 x 28 x `out_channel_dim` images."
   ]
  },
  {
   "cell_type": "code",
   "execution_count": 9,
   "metadata": {},
   "outputs": [
    {
     "name": "stdout",
     "output_type": "stream",
     "text": [
      "Tests Passed\n"
     ]
    }
   ],
   "source": [
    "Gkeep_prob      = 0.4            # initialize\n",
    "\n",
    "def generator(z, out_channel_dim, is_train=True):\n",
    "    \"\"\"\n",
    "    Create the generator network\n",
    "    :param z: Input z\n",
    "    :param out_channel_dim: The number of channels in the output image\n",
    "    :param is_train: Boolean if generator is being used for training\n",
    "    :return: The tensor output of the generator\n",
    "    \"\"\"\n",
    "    # print(\"z\", z.shape) # z (?, 100)\n",
    "    # target (28,28, out_channel_dim)\n",
    "    \n",
    "    global Gkeep_prob           # another tool we can use to make the G more steady, less irratic\n",
    "    kernel_init = tf.contrib.layers.xavier_initializer()\n",
    "    \n",
    "    with tf.variable_scope('generator', reuse=not is_train): # not sure this is right\n",
    "        kernel_size = 4\n",
    "        dense = tf.layers.dense(z, 3*3*512)\n",
    "        # print(\"dense\", dense.shape) # dense (?, 4608)\n",
    "        shape1 = tf.reshape(dense, [-1, 3, 3, 512])\n",
    "        drop1  = tf.layers.dropout(shape1, Gkeep_prob)\n",
    "        bnor1  = tf.layers.batch_normalization(drop1, training=is_train)\n",
    "        leak1  = leaky_relu(bnor1)\n",
    "        # print(\"leak1\",leak1.shape) # leak1 (?,  3, 3, 512)\n",
    "        \n",
    "        tran2  = tf.layers.conv2d_transpose(leak1, 256, 3, strides=2, padding='valid', \\\n",
    "                                            kernel_initializer=kernel_init)\n",
    "        # print(\"tran2\",tran2.shape) # tran2 (?, 7, 7, 256)\n",
    "        # while still trying to stabilize G - I try less Drops in the lower G: inspired by: \n",
    "        # https://medium.com/towards-data-science/gan-by-example-using-keras-on-tensorflow-backend-1a6d515a60d0\n",
    "        # drop2  = tf.layers.dropout(tran2, Gkeep_prob)\n",
    "        bnor2  = tf.layers.batch_normalization(tran2, training=is_train)\n",
    "        leak2  = leaky_relu(bnor2)\n",
    "\n",
    "        tran3  = tf.layers.conv2d_transpose(leak2, 128, kernel_size, strides=2, padding='same', \\\n",
    "                                            kernel_initializer=kernel_init)\n",
    "        # print(\"tran3\",tran3.shape) # tran3 (?, 14, 14, 128)\n",
    "        # drop3  = tf.layers.dropout(tran3, Gkeep_prob)\n",
    "        bnor3  = tf.layers.batch_normalization(tran3, training=is_train)\n",
    "        leak3  = leaky_relu(bnor3)\n",
    "        \n",
    "        logits = tf.layers.conv2d_transpose(leak3, out_channel_dim, 5, strides=2, \\\n",
    "                                            padding='same')\n",
    "        # print(\"logits\",logits.shape) # logits (?, 28, 28, 5)\n",
    "        # print(\"chan\",out_channel_dim)\n",
    "        output = tf.tanh(logits)\n",
    "        \n",
    "    return output\n",
    "\n",
    "\n",
    "\"\"\"\n",
    "DON'T MODIFY ANYTHING IN THIS CELL THAT IS BELOW THIS LINE\n",
    "\"\"\"\n",
    "tests.test_generator(generator, tf)"
   ]
  },
  {
   "cell_type": "markdown",
   "metadata": {},
   "source": [
    "### Loss\n",
    "Implement `model_loss` to build the GANs for training and calculate the loss.  The function should return a tuple of (discriminator loss, generator loss).  Use the following functions you implemented:\n",
    "- `discriminator(images, reuse=False)`\n",
    "- `generator(z, out_channel_dim, is_train=True)`"
   ]
  },
  {
   "cell_type": "code",
   "execution_count": 10,
   "metadata": {},
   "outputs": [
    {
     "name": "stdout",
     "output_type": "stream",
     "text": [
      "Tests Passed\n"
     ]
    }
   ],
   "source": [
    "def model_loss(input_real, input_z, out_channel_dim):\n",
    "    \"\"\"\n",
    "    Get the loss for the discriminator and generator\n",
    "    :param input_real: Images from the real dataset\n",
    "    :param input_z: Z input\n",
    "    :param out_channel_dim: The number of channels in the output image\n",
    "    :return: A tuple of (discriminator loss, generator loss)\n",
    "    \"\"\"\n",
    "    # no longer two GPU's \n",
    "    # with tf.device(gpu1):\n",
    "    g_model = generator(input_z, out_channel_dim)\n",
    "    \n",
    "    # with tf.device(gpu0):\n",
    "    d_model_real, d_logits_real = discriminator(input_real)\n",
    "    d_model_fake, d_logits_fake = discriminator(g_model, reuse=True)\n",
    "    d_loss_real = tf.reduce_mean(\n",
    "                tf.nn.sigmoid_cross_entropy_with_logits(logits=d_logits_real, \n",
    "                                            labels=tf.ones_like(d_model_real)))\n",
    "    d_loss_fake = tf.reduce_mean(\n",
    "                tf.nn.sigmoid_cross_entropy_with_logits(logits=d_logits_fake, \n",
    "                                            labels=tf.zeros_like(d_model_fake)))\n",
    "    d_loss = d_loss_real + d_loss_fake\n",
    "    \n",
    "    g_loss = tf.reduce_mean(\n",
    "                tf.nn.sigmoid_cross_entropy_with_logits(logits=d_logits_fake, \n",
    "                                            labels=tf.ones_like(d_model_fake)))\n",
    "    return d_loss, g_loss\n",
    "\n",
    "\"\"\"\n",
    "DON'T MODIFY ANYTHING IN THIS CELL THAT IS BELOW THIS LINE\n",
    "\"\"\"\n",
    "tests.test_model_loss(model_loss)"
   ]
  },
  {
   "cell_type": "markdown",
   "metadata": {},
   "source": [
    "### Optimization\n",
    "Implement `model_opt` to create the optimization operations for the GANs. Use [`tf.trainable_variables`](https://www.tensorflow.org/api_docs/python/tf/trainable_variables) to get all the trainable variables.  Filter the variables with names that are in the discriminator and generator scope names.  The function should return a tuple of (discriminator training operation, generator training operation)."
   ]
  },
  {
   "cell_type": "code",
   "execution_count": 11,
   "metadata": {},
   "outputs": [
    {
     "name": "stdout",
     "output_type": "stream",
     "text": [
      "Tests Passed\n"
     ]
    }
   ],
   "source": [
    "def model_opt(d_loss, g_loss, learning_rate, beta1):\n",
    "    \"\"\"\n",
    "    Get optimization operations\n",
    "    :param d_loss: Discriminator loss Tensor\n",
    "    :param g_loss: Generator loss Tensor\n",
    "    :param learning_rate: Learning Rate Placeholder\n",
    "    :param beta1: The exponential decay rate for the 1st moment in the optimizer\n",
    "    :return: A tuple of (discriminator training operation, generator training operation)\n",
    "    \"\"\"\n",
    "    # Get weights and bias to update\n",
    "    t_vars = tf.trainable_variables()\n",
    "    d_vars = [var for var in t_vars if var.name.startswith('discriminator')]\n",
    "    g_vars = [var for var in t_vars if var.name.startswith('generator')]\n",
    "    \n",
    "    # Optimize\n",
    "    with tf.control_dependencies(tf.get_collection(tf.GraphKeys.UPDATE_OPS)):\n",
    "        # with tf.device(gpu0):\n",
    "        d_train_opt = tf.train.AdamOptimizer(learning_rate, beta1=beta1).minimize(d_loss, var_list=d_vars)\n",
    "        # with tf.device(gpu1):\n",
    "        g_train_opt = tf.train.AdamOptimizer(learning_rate, beta1=beta1).minimize(g_loss, var_list=g_vars)\n",
    "        \n",
    "    return d_train_opt, g_train_opt\n",
    "\n",
    "\"\"\"\n",
    "DON'T MODIFY ANYTHING IN THIS CELL THAT IS BELOW THIS LINE\n",
    "\"\"\"\n",
    "tests.test_model_opt(model_opt, tf)"
   ]
  },
  {
   "cell_type": "markdown",
   "metadata": {},
   "source": [
    "## Neural Network Training\n",
    "### Show Output\n",
    "Use this function to show the current output of the generator during training. It will help you determine how well the GANs is training."
   ]
  },
  {
   "cell_type": "code",
   "execution_count": 12,
   "metadata": {
    "collapsed": true
   },
   "outputs": [],
   "source": [
    "\"\"\"\n",
    "DON'T MODIFY ANYTHING IN THIS CELL\n",
    "\"\"\"\n",
    "import numpy as np\n",
    "\n",
    "def show_generator_output(sess, n_images, input_z, out_channel_dim, image_mode):\n",
    "    \"\"\"\n",
    "    Show example output for the generator\n",
    "    :param sess: TensorFlow session\n",
    "    :param n_images: Number of Images to display\n",
    "    :param input_z: Input Z Tensor\n",
    "    :param out_channel_dim: The number of channels in the output image\n",
    "    :param image_mode: The mode to use for images (\"RGB\" or \"L\")\n",
    "    \"\"\"\n",
    "    cmap = None if image_mode == 'RGB' else 'gray'\n",
    "    z_dim = input_z.get_shape().as_list()[-1]\n",
    "    example_z = np.random.uniform(-1, 1, size=[n_images, z_dim])\n",
    "\n",
    "    samples = sess.run(\n",
    "        generator(input_z, out_channel_dim, False),\n",
    "        feed_dict={input_z: example_z})\n",
    "\n",
    "    images_grid = helper.images_square_grid(samples, image_mode)\n",
    "    pyplot.imshow(images_grid, cmap=cmap)\n",
    "    pyplot.show()\n"
   ]
  },
  {
   "cell_type": "markdown",
   "metadata": {},
   "source": [
    "### Train\n",
    "Implement `train` to build and train the GANs.  Use the following functions you implemented:\n",
    "- `model_inputs(image_width, image_height, image_channels, z_dim)`\n",
    "- `model_loss(input_real, input_z, out_channel_dim)`\n",
    "- `model_opt(d_loss, g_loss, learning_rate, beta1)`\n",
    "\n",
    "Use the `show_generator_output` to show `generator` output while you train. Running `show_generator_output` for every batch will drastically increase training time and increase the size of the notebook.  It's recommended to print the `generator` output every 100 batches."
   ]
  },
  {
   "cell_type": "code",
   "execution_count": 13,
   "metadata": {
    "collapsed": true
   },
   "outputs": [],
   "source": [
    "import pickle as pkl\n",
    "\n",
    "import time\n",
    "import datetime\n",
    "from datetime import timedelta \n",
    "\n",
    "def timestmp():\n",
    "    print (\"tmstmp\")\n",
    "    print (datetime.datetime.now().strftime(\"%Y-%m-%d %H:%M:%S\"))\n",
    "    \n",
    "def split(start_time):\n",
    "    split_time = time.time()\n",
    "    time_dif   = split_time - start_time\n",
    "    time_str = str(timedelta(seconds = int(time_dif)))\n",
    "    return time_dif, time_str\n"
   ]
  },
  {
   "cell_type": "code",
   "execution_count": 14,
   "metadata": {
    "collapsed": true
   },
   "outputs": [],
   "source": [
    "# https://github.com/aleju/LossAccPlotter\n",
    "#from laplotter import LossAccPlotter\n",
    "import pandas as pd\n",
    "import pylab \n",
    "\n",
    "def pandas_sma(losses, period):\n",
    "    return pd.rolling_mean(losses, period)\n",
    "\n",
    "def plot_loss(losses):\n",
    "    sma_period = 20\n",
    "    fig, ax = pyplot.subplots()\n",
    "    losses = np.array(losses)\n",
    "    pyplot.plot(losses.T[0], label='Discriminator', alpha=0.5)\n",
    "    pyplot.plot(losses.T[1], label='Generator', alpha=0.5)\n",
    "    Dsma, Gsma = pandas_sma(losses, sma_period)\n",
    "    pyplot.plot('moving_average',sma_pandas )\n",
    "    pyplot.title(\"Training Losses\")\n",
    "    pyplot.legend()"
   ]
  },
  {
   "cell_type": "code",
   "execution_count": 21,
   "metadata": {
    "collapsed": true
   },
   "outputs": [],
   "source": [
    "import numpy as np\n",
    "#from laplotter import LossAccPlotter\n",
    "from collections import deque\n",
    "\n",
    "def train(epochs, batch_size, z_dim, learning_rate, beta1, get_batches, data_shape, data_image_mode):\n",
    "    #print(\"paramlist\",\"epo\", epochs, \"ba-siz\",batch_size, \"z-d\",z_dim,\"lr\", learning_rate, \"beta\",beta1, \"getbatch\", get_batches, \"rest boring\",data_shape, data_image_mode)\n",
    "    #print(\"learning_rate\", learning_rate)\n",
    "\n",
    "    \"\"\"\n",
    "    Train the GAN\n",
    "    :param epochs: Number of epochs pr. run\n",
    "    :param batch_size: Batch Size\n",
    "    :param z_dim: Z dimension\n",
    "    :param learning_rate: Learning Rate\n",
    "    :param beta1: The exponential decay rate for the 1st moment in the optimizer\n",
    "    :param get_batches: Function to get batches\n",
    "    :param data_shape: Shape of the data\n",
    "    :param data_image_mode: The image mode to use for images (\"RGB\" or \"L\")\n",
    "    \"\"\"\n",
    "    # global\n",
    "    global filename\n",
    "    global Load_chk\n",
    "    global steps_printline\n",
    "    global steps_images\n",
    "    global chkfilepth\n",
    "    global pckfilepth\n",
    "    \n",
    "    # var\n",
    "    steps           = 0\n",
    "    laststeps       = 0\n",
    "    last_elapsed    = 0\n",
    "    samples, losses = [], []\n",
    "    start_time      = time.time()\n",
    "    mov_av_list     = deque()\n",
    "    #plotter = LossAccPlotter()\n",
    "    \n",
    "    #print (\"data_shape:\", data_shape)\n",
    "    #print (\"data_shape:[1:]\", data_shape[1:])\n",
    "    image_dim = data_shape[1:]\n",
    "    \n",
    "    #print (\"data_shape:[-1]\", data_shape[-1])\n",
    "    channels  = image_dim[-1]\n",
    "    \n",
    "    image_mode = \"L\" if channels == 1 else \"RGB\"\n",
    "    \n",
    "    input_real, input_z, lr = model_inputs(*image_dim, z_dim)\n",
    "    d_loss, g_loss                     = model_loss(input_real, input_z, channels)\n",
    "    d_opt, g_opt                       = model_opt(d_loss, g_loss, learning_rate, beta1)\n",
    "        \n",
    "    with tf.Session() as sess:\n",
    "        sess.run(tf.global_variables_initializer())\n",
    "        saver           = tf.train.Saver()\n",
    "        \n",
    "        # implemented in train() so I can separate data from the two runs at runtime\n",
    "        # so we can separate MNIST files from Celeb-files\n",
    "        chk_suffix = '.chk'\n",
    "        chkfilepth = os.path.join(chk_subpth, filename+chk_suffix)\n",
    "        pkl_suffix = '.pkl'\n",
    "        pklfilepth = os.path.join(pkl_subpth, filename+pkl_suffix)\n",
    "\n",
    "        # we need to add .meta - to see that the 3 chkpoint files are present\n",
    "        metapklfilepth = pklfilepth+'.meta'\n",
    "        \n",
    "        if (Load_chk==True):\n",
    "            # honestly don't know why [isfile] wouldn't work - will have to look into that\n",
    "            # ...anyway the model- & losses- restore works even if the isfile doesn't\n",
    "            saver.restore(sess, chkfilepth)\n",
    "            print('Model restored.')\n",
    "            with open(pklfilepth, 'rb') as rl:\n",
    "                losses = pkl.load(rl)\n",
    "            print ('historic losses loaded')    \n",
    "            \n",
    "            \"\"\" \n",
    "            for plot_step, value in enumerate(example_values):\n",
    "                # deactivate redrawing after each update\n",
    "                plotter.add_values(plot_step, loss_train=value, redraw=False)\n",
    "            plotter.redraw()\n",
    "            plotter.block()\n",
    "            \"\"\"\n",
    "            \n",
    "            # if isfile(metachkfilepth):\n",
    "            # else:\n",
    "                #raise Exception(\"Cannot find Checkpoint-data file [\",metapklfilepth,\"] doesn't exist!\")\n",
    "            \n",
    "            # if isfile(pklfilepth):\n",
    "            # else:\n",
    "                # raise Exception(\"Losses-data file [\",pklfilepth,\"]doesn't exist!\")\n",
    "        timestmp    \n",
    "        for epoch_i in range(epochs):\n",
    "            for batch_images in get_batches(batch_size):\n",
    "                steps += 1\n",
    "                \n",
    "                # Sample noise\n",
    "                batch_z = np.random.uniform(-1, 1, size=[batch_size, z_dim])\n",
    "                \n",
    "                # Optimize\n",
    "                _ = sess.run(d_opt, feed_dict={input_real: batch_images, \n",
    "                                               input_z: batch_z, \n",
    "                                               lr: learning_rate})\n",
    " \n",
    "                _ = sess.run(g_opt, feed_dict={input_real: batch_images, \n",
    "                                               input_z: batch_z, \n",
    "                                               lr: learning_rate})\n",
    "                # two optimizations inspired by the chats on SLACK and the orig. GAN paper\n",
    "                # this is an attempt at stabilizing the Generator and countering the Discriminator overpowering\n",
    "                # the Generator \n",
    "                # so the G takes 1 little steps towards optimum - recalc - and 1 step towards opt\n",
    "                # -- while D take one on the same batch\n",
    "                _ = sess.run(g_opt, feed_dict={input_real: batch_images, \n",
    "                                               input_z: batch_z, \n",
    "                                               lr: learning_rate})\n",
    "                \n",
    "\n",
    "                if steps % steps_printline == 0:\n",
    "                    train_loss_d = d_loss.eval({input_z: batch_z, input_real: batch_images})\n",
    "                    train_loss_g = g_loss.eval({input_z: batch_z})\n",
    "\n",
    "                    elapsed_time, time_str = split(start_time)\n",
    "                    elapsed_steps  = steps-laststeps\n",
    "                    step_time      = elapsed_time-last_elapsed\n",
    "                    time_rest      = (elapsed_time/(epoch_i+1))*(epochs-epoch_i+1)/60\n",
    "                    \n",
    "                    if (len(mov_av_list)>10):\n",
    "                        mov_av_list.popleft()\n",
    "                        mov_av_list.append(time_rest)\n",
    "                    else:\n",
    "                        mov_av_list.append(time_rest)\n",
    "                    mov_av = np.mean(mov_av_list)\n",
    "                    \n",
    "                    print(\"Epoch:{:2}/{:2}\".format(epoch_i+1, epochs),\n",
    "                          \"Time: {:8}s.\".format(time_str),\n",
    "                          \"#Steps:{:4},\".format(steps),\n",
    "                          \"DLoss:{:7.4f}\".format(train_loss_d),\n",
    "                          \"GLoss:{:7.4f}\".format(train_loss_g),\n",
    "                          \"guess:{:4.0f}m.\".format(time_rest),\n",
    "                          \"average:{:4.0f}m.\".format(mov_av))\n",
    "                    laststeps = steps\n",
    "                    last_elapsed = elapsed_time \n",
    "                    # Save losses to view after training\n",
    "                    losses.append((train_loss_d, train_loss_g))\n",
    "                \n",
    "                if (steps == 1) or (steps % steps_images == 0): \n",
    "                    show_generator_output(sess, 81, input_z, channels, image_mode)\n",
    "                    print()\n",
    "                    # I need to double check the shape to use the plotter\n",
    "                    print(\"losses - historic + the ones added this ses:\", losses)  \n",
    "                # the graph get mixed together - even if I print them at very different times\n",
    "                # there must be some link to plot that I am not aware off \n",
    "                # - so until I can sort that out we will have to wait\n",
    "                # if (steps == steps_printline) or (steps % steps_graph == 0):\n",
    "                #    plot_loss(losses)\n",
    "                    \n",
    "        saver.save(sess, chkfilepth)\n",
    "        timestmp\n",
    "        print(\"checkpoint saved\")\n",
    "        \n",
    "        #does not work need to implement LossAccPlotter \n",
    "        #plot_loss(losses)\n",
    "        # trying to separate the 3 plots\n",
    "        for d in range(10, 0, -1):\n",
    "            print(d)\n",
    "        print(\"take off .. :)\")\n",
    "        show_generator_output(sess, 81, input_z, channels, image_mode)\n",
    "        for d in range(10, 0, -1):\n",
    "            print(d)\n",
    "        print(\"take off .. :)\")\n",
    "        show_generator_output(sess, 4, input_z, channels, image_mode)\n",
    "        for d in range(10, 0, -1):\n",
    "            print(d)\n",
    "        print(\"take off .. :)\")\n",
    "        show_generator_output(sess, 4, input_z, channels, image_mode)\n",
    "\n",
    "    print(\"pickle should open: \",pklfilepth)    \n",
    "    with open(pklfilepth, 'wb') as wl:\n",
    "        pkl.dump(losses, wl)\n",
    "    print (\"finished training {} epochs\".format(epochs))\n",
    "    "
   ]
  },
  {
   "cell_type": "markdown",
   "metadata": {},
   "source": [
    "### MNIST\n",
    "Test your GANs architecture on MNIST.  After 2 epochs, the GANs should be able to generate images that look like handwritten digits.  Make sure the loss of the generator is lower than the loss of the discriminator or close to 0."
   ]
  },
  {
   "cell_type": "code",
   "execution_count": null,
   "metadata": {
    "scrolled": true
   },
   "outputs": [],
   "source": [
    "\"\"\"\n",
    "# GLOBAL VAR \n",
    "- rather than changing the params train() uses - I added these params as global \n",
    "- which I know is not strictly right, but it works for me.\n",
    "\"\"\"\n",
    "\n",
    "# to seperate the two data-runs, I will have to give the files different names \n",
    "filename      = 'MNIST_run'\n",
    "\n",
    "# https://medium.com/towards-data-science/gan-by-example-using-keras-on-tensorflow-backend-1a6d515a60d0\n",
    "Gkeep_prob = 0.4  # more drops -> lower keep prob but with fewer D_O layers (only in the dense)\n",
    "Dkeep_prob = 0.5 \n",
    "steps_printline = 32\n",
    "steps_images    = 512\n",
    "steps_graph     = 77        # abandoned for the moment \n",
    "Load_chk      = True       # set this to [True], if you want to load the checkpoint and ass. losses-file\n",
    "                            # ! remember to delete the comenting out of load .pkl when it has been saved \n",
    "# std. Hyper param\n",
    "batch_size    = 2048\n",
    "z_dim         = 100\n",
    "beta1         = 0.5\n",
    "learning_rate = 0.00005\n",
    "\n",
    "# delete me before handing in - on laptop 1 epoch -> 1 hour)\n",
    "epochs       = 6\n",
    "\"\"\"\n",
    "DON'T MODIFY ANYTHING IN THIS CELL THAT IS BELOW THIS LINE\n",
    "\"\"\"\n",
    "#epochs = 2\n",
    "\n",
    "mnist_dataset = helper.Dataset('mnist', glob(os.path.join(data_dir, 'mnist/*.jpg')))\n",
    "with tf.Graph().as_default():\n",
    "    train(epochs, batch_size, z_dim, learning_rate, beta1, mnist_dataset.get_batches,\n",
    "          mnist_dataset.shape, mnist_dataset.image_mode)"
   ]
  },
  {
   "cell_type": "markdown",
   "metadata": {},
   "source": [
    "### CelebA\n",
    "Run your GANs on CelebA.  It will take around 20 minutes on the average GPU to run one epoch.  You can run the whole epoch or stop when it starts to generate realistic faces."
   ]
  },
  {
   "cell_type": "code",
   "execution_count": null,
   "metadata": {
    "scrolled": false
   },
   "outputs": [
    {
     "name": "stdout",
     "output_type": "stream",
     "text": [
      "INFO:tensorflow:Restoring parameters from ./checkpoints/historic_losses/CelebA_run.chk\n",
      "Model restored.\n",
      "historic losses loaded\n"
     ]
    },
    {
     "data": {
      "image/png": "[encoded data removed]",
      "text/plain": [
       "<matplotlib.figure.Figure at 0x7fea2c062278>"
      ]
     },
     "metadata": {},
     "output_type": "display_data"
    },
    {
     "name": "stdout",
     "output_type": "stream",
     "text": [
      "\n",
      "losses - historic + the ones added this ses: [(1.0220091, 0.78570217), (0.63173693, 1.3250561), (0.40495497, 1.8489695), (0.41304877, 1.8484746), (0.41782707, 1.8853351), (0.30481148, 2.2145731), (0.31381869, 2.3347108), (0.38805592, 2.0174079), (0.63191414, 1.1381667), (0.67540586, 1.0295562), (0.46693563, 2.0306518), (0.40996063, 1.9364303), (0.36502457, 1.8689358), (0.29306346, 2.1411998), (0.31338516, 2.0682466), (0.30389106, 2.0865731), (0.29231364, 2.2051022), (0.32433656, 2.0418968), (0.31939831, 1.8860366), (1.085158, 5.6625066), (0.8499493, 0.740035), (0.83279216, 1.963434), (0.73763371, 2.210464), (0.97945189, 1.2756288), (0.85083312, 1.1161966), (0.89131498, 1.0129465), (0.92924201, 1.6504365), (0.89392769, 1.2666314), (0.89233875, 0.93995875), (0.90998274, 1.3065939), (0.83508199, 1.1708552), (1.159835, 0.54725307), (0.95404977, 0.66345417), (0.57954299, 1.4933563), (0.62579775, 1.2675427), (0.96679622, 0.64360762), (0.57451588, 1.6506841), (0.79077339, 1.6228176), (0.80828166, 1.0884124), (1.0418979, 0.64290237), (0.50550616, 1.5584611), (0.87035501, 1.917791)]\n",
      "Epoch: 1/ 6 Time: 0:16:51 s. #Steps:  32, DLoss: 0.6558 GLoss: 1.6022 guess: 118m. average: 118m.\n",
      "Epoch: 1/ 6 Time: 0:33:49 s. #Steps:  64, DLoss: 0.9891 GLoss: 2.9816 guess: 237m. average: 177m.\n",
      "Epoch: 1/ 6 Time: 0:50:17 s. #Steps:  96, DLoss: 0.6646 GLoss: 1.5761 guess: 352m. average: 236m.\n",
      "Epoch: 2/ 6 Time: 1:07:07 s. #Steps: 128, DLoss: 0.7294 GLoss: 1.9595 guess: 201m. average: 227m.\n",
      "Epoch: 2/ 6 Time: 1:23:46 s. #Steps: 160, DLoss: 1.0436 GLoss: 4.8536 guess: 251m. average: 232m.\n",
      "Epoch: 2/ 6 Time: 1:40:35 s. #Steps: 192, DLoss: 1.0722 GLoss: 0.5425 guess: 302m. average: 244m.\n",
      "Epoch: 3/ 6 Time: 1:57:17 s. #Steps: 224, DLoss: 0.5151 GLoss: 2.2758 guess: 195m. average: 237m.\n",
      "Epoch: 3/ 6 Time: 2:14:07 s. #Steps: 256, DLoss: 1.0024 GLoss: 0.5904 guess: 224m. average: 235m.\n",
      "Epoch: 3/ 6 Time: 2:30:42 s. #Steps: 288, DLoss: 0.6559 GLoss: 3.1935 guess: 251m. average: 237m.\n",
      "Epoch: 4/ 6 Time: 2:47:24 s. #Steps: 320, DLoss: 1.2144 GLoss: 0.4458 guess: 167m. average: 230m.\n"
     ]
    }
   ],
   "source": [
    "batch_size    = 2048\n",
    "z_dim         = 100\n",
    "beta1         = 0.5\n",
    "learning_rate = 0.00005\n",
    "\n",
    "\"\"\"\n",
    "# GLOBAL VAR \n",
    "- rather than changing the params train() uses \n",
    "- I added these params as global \n",
    "- which I know is not strictly right, but it works for me.\n",
    "\"\"\"\n",
    "# in order to seperate the two data-runs, I will have to give the files different names ofcourse\n",
    "filename      = 'CelebA_run'\n",
    "\n",
    "steps_printline =  32\n",
    "steps_graph     =  77           # abandoned for the moment \n",
    "Gkeep_prob      = 0.4\n",
    "Dkeep_prob      = 0.5 \n",
    "steps_images    = 512\n",
    "\n",
    "Load_chk        = True       # set this to [True], if you want to load the checkpoint and ass. losses-file\n",
    "\n",
    "\n",
    "\n",
    "#delete me :)\n",
    "epochs       = 6\n",
    "\n",
    "\"\"\"\n",
    "DON'T MODIFY ANYTHING IN THIS CELL THAT IS BELOW THIS LINE\n",
    "\"\"\"\n",
    "#epochs = 1\n",
    "\n",
    "celeba_dataset = helper.Dataset('celeba', glob(os.path.join(data_dir, 'img_align_celeba/*.jpg')))\n",
    "with tf.Graph().as_default():\n",
    "    train(epochs, batch_size, z_dim, learning_rate, beta1, celeba_dataset.get_batches,\n",
    "          celeba_dataset.shape, celeba_dataset.image_mode)"
   ]
  },
  {
   "cell_type": "markdown",
   "metadata": {},
   "source": [
    "### Submitting This Project\n",
    "When submitting this project, make sure to run all the cells before saving the notebook. Save the notebook file as \"dlnd_face_generation.ipynb\" and save it as a HTML file under \"File\" -> \"Download as\". Include the \"helper.py\" and \"problem_unittests.py\" files in your submission."
   ]
  }
 ],
 "metadata": {
  "kernelspec": {
   "display_name": "Python 3",
   "language": "python",
   "name": "python3"
  },
  "language_info": {
   "codemirror_mode": {
    "name": "ipython",
    "version": 3
   },
   "file_extension": ".py",
   "mimetype": "text/x-python",
   "name": "python",
   "nbconvert_exporter": "python",
   "pygments_lexer": "ipython3",
   "version": "3.5.3"
  }
 },
 "nbformat": 4,
 "nbformat_minor": 1
}
